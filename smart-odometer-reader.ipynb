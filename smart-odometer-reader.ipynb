{
  "cells": [
    {
      "cell_type": "markdown",
      "metadata": {
        "id": "view-in-github",
        "colab_type": "text"
      },
      "source": [
        "<a href=\"https://colab.research.google.com/github/PouriaAzadehR/Smart-Odometer-Reader/blob/main/smart-odometer-reader.ipynb\" target=\"_parent\"><img src=\"https://colab.research.google.com/assets/colab-badge.svg\" alt=\"Open In Colab\"/></a>"
      ]
    },
    {
      "cell_type": "markdown",
      "source": [
        "# Requirements"
      ],
      "metadata": {
        "id": "ciV0zHhauEAQ"
      },
      "id": "ciV0zHhauEAQ"
    },
    {
      "cell_type": "code",
      "outputs": [],
      "source": [
        "!pip install easyocr\n",
        "!pip install ultralytics\n",
        "!pip install torchmetrics"
      ],
      "metadata": {
        "ExecuteTime": {
          "end_time": "2024-05-20T15:33:49.682760800Z",
          "start_time": "2024-05-20T15:33:31.234866600Z"
        },
        "id": "177845e0b8b94a76"
      },
      "id": "177845e0b8b94a76",
      "execution_count": null
    },
    {
      "cell_type": "code",
      "execution_count": null,
      "id": "initial_id",
      "metadata": {
        "ExecuteTime": {
          "end_time": "2024-05-20T15:34:40.500288700Z",
          "start_time": "2024-05-20T15:34:33.155684100Z"
        },
        "id": "initial_id"
      },
      "outputs": [],
      "source": [
        "import yaml\n",
        "from ultralytics import YOLO\n",
        "from PIL import Image\n",
        "import os\n",
        "import cv2\n",
        "import json\n",
        "import easyocr\n",
        "import numpy as np\n",
        "import matplotlib.pyplot as plt\n",
        "from difflib import SequenceMatcher\n",
        "from torchmetrics.text import CharErrorRate, WordErrorRate"
      ]
    },
    {
      "cell_type": "code",
      "source": [
        "from google.colab import drive\n",
        "drive.mount('/content/drive',force_remount=True)"
      ],
      "metadata": {
        "colab": {
          "base_uri": "https://localhost:8080/"
        },
        "id": "GMfKsQdwDzLx",
        "outputId": "3c51437d-ad20-4fb8-eefa-f35a2b1a8d01"
      },
      "id": "GMfKsQdwDzLx",
      "execution_count": null,
      "outputs": [
        {
          "output_type": "stream",
          "name": "stdout",
          "text": [
            "Mounted at /content/drive\n"
          ]
        }
      ]
    },
    {
      "cell_type": "markdown",
      "source": [
        "# Data Foldering\n",
        "Dataset should be divided to two folders images and labels and each of those should be divided to two folders train and val."
      ],
      "metadata": {
        "id": "d8U6bm1GuU7J"
      },
      "id": "d8U6bm1GuU7J"
    },
    {
      "cell_type": "code",
      "execution_count": null,
      "id": "5f6ba29203ee17f8",
      "metadata": {
        "ExecuteTime": {
          "end_time": "2024-05-20T15:53:28.762155600Z",
          "start_time": "2024-05-20T15:53:28.739788100Z"
        },
        "id": "5f6ba29203ee17f8"
      },
      "outputs": [],
      "source": [
        "\n",
        "\n",
        "yaml_filename = 'odometer_dataset.yaml'\n",
        "\n",
        "data = {\n",
        "    'train': '/content/drive/MyDrive/car_dataset/images/train',\n",
        "    'val': '/content/drive/MyDrive/car_dataset/images/val',\n",
        "    'nc': 1,\n",
        "    'names': ['odometer']  # Ensure this is a list, not a string\n",
        "}\n",
        "with open(yaml_filename, 'w') as file:\n",
        "    yaml.dump(data, file, default_flow_style=None)"
      ]
    },
    {
      "cell_type": "markdown",
      "source": [
        "# Yolo8 Nano"
      ],
      "metadata": {
        "id": "jxJb4UL_vOKu"
      },
      "id": "jxJb4UL_vOKu"
    },
    {
      "cell_type": "markdown",
      "source": [
        "## Loading Pretrained Model"
      ],
      "metadata": {
        "id": "SA7sD25vwT3r"
      },
      "id": "SA7sD25vwT3r"
    },
    {
      "cell_type": "code",
      "execution_count": null,
      "id": "842f4c9ecd8dd0b8",
      "metadata": {
        "ExecuteTime": {
          "end_time": "2024-05-20T15:53:32.468801900Z",
          "start_time": "2024-05-20T15:53:31.755781500Z"
        },
        "colab": {
          "base_uri": "https://localhost:8080/"
        },
        "id": "842f4c9ecd8dd0b8",
        "outputId": "fd0bddef-851d-4df3-d9a8-f1286208657c"
      },
      "outputs": [
        {
          "output_type": "stream",
          "name": "stdout",
          "text": [
            "Downloading https://github.com/ultralytics/assets/releases/download/v8.2.0/yolov8n.pt to 'yolov8n.pt'...\n"
          ]
        },
        {
          "output_type": "stream",
          "name": "stderr",
          "text": [
            "100%|██████████| 6.23M/6.23M [00:00<00:00, 89.4MB/s]\n"
          ]
        },
        {
          "output_type": "stream",
          "name": "stdout",
          "text": [
            "Transferred 355/355 items from pretrained weights\n"
          ]
        }
      ],
      "source": [
        "# 3. Create Yolo model\n",
        "model = YOLO('yolov8n.yaml')  # creates Yolo object from 'yolov8n.yaml' configuration file.\n",
        "model = YOLO('yolov8n.pt')  # Loads pretrained weights\n",
        "model = YOLO('yolov8n.yaml').load('yolov8n.pt')  # build from YAML and transfer weights\n"
      ]
    },
    {
      "cell_type": "markdown",
      "source": [
        "## Training Yolo"
      ],
      "metadata": {
        "id": "Q0KcxsaevVZP"
      },
      "id": "Q0KcxsaevVZP"
    },
    {
      "cell_type": "code",
      "execution_count": null,
      "id": "fb34cbbe5e7dac88",
      "metadata": {
        "ExecuteTime": {
          "end_time": "2024-05-20T16:16:26.261704300Z",
          "start_time": "2024-05-20T15:53:37.098744200Z"
        },
        "colab": {
          "base_uri": "https://localhost:8080/"
        },
        "id": "fb34cbbe5e7dac88",
        "outputId": "43c49596-ac4b-4b59-d384-5900a91b2fba"
      },
      "outputs": [
        {
          "output_type": "stream",
          "name": "stdout",
          "text": [
            "Ultralytics YOLOv8.2.18 🚀 Python-3.10.12 torch-2.2.1+cu121 CPU (Intel Xeon 2.20GHz)\n",
            "\u001b[34m\u001b[1mengine/trainer: \u001b[0mtask=detect, mode=train, model=yolov8n.yaml, data=odometer_dataset.yaml, epochs=30, time=None, patience=10, batch=16, imgsz=640, save=True, save_period=-1, cache=False, device=None, workers=8, project=None, name=train2, exist_ok=False, pretrained=True, optimizer=auto, verbose=True, seed=0, deterministic=True, single_cls=False, rect=False, cos_lr=False, close_mosaic=10, resume=False, amp=True, fraction=1.0, profile=False, freeze=None, multi_scale=False, overlap_mask=True, mask_ratio=4, dropout=0.0, val=True, split=val, save_json=False, save_hybrid=False, conf=None, iou=0.7, max_det=300, half=False, dnn=False, plots=True, source=None, vid_stride=1, stream_buffer=False, visualize=False, augment=False, agnostic_nms=False, classes=None, retina_masks=False, embed=None, show=False, save_frames=False, save_txt=False, save_conf=False, save_crop=False, show_labels=True, show_conf=True, show_boxes=True, line_width=None, format=torchscript, keras=False, optimize=False, int8=False, dynamic=False, simplify=False, opset=None, workspace=4, nms=False, lr0=0.01, lrf=0.01, momentum=0.937, weight_decay=0.0005, warmup_epochs=3.0, warmup_momentum=0.8, warmup_bias_lr=0.1, box=7.5, cls=0.5, dfl=1.5, pose=12.0, kobj=1.0, label_smoothing=0.0, nbs=64, hsv_h=0.015, hsv_s=0.7, hsv_v=0.4, degrees=0.0, translate=0.1, scale=0.5, shear=0.0, perspective=0.0, flipud=0.0, fliplr=0.5, bgr=0.0, mosaic=1.0, mixup=0.0, copy_paste=0.0, auto_augment=randaugment, erasing=0.4, crop_fraction=1.0, cfg=None, tracker=botsort.yaml, save_dir=runs/detect/train2\n",
            "Downloading https://ultralytics.com/assets/Arial.ttf to '/root/.config/Ultralytics/Arial.ttf'...\n"
          ]
        },
        {
          "output_type": "stream",
          "name": "stderr",
          "text": [
            "100%|██████████| 755k/755k [00:00<00:00, 19.6MB/s]\n"
          ]
        },
        {
          "output_type": "stream",
          "name": "stdout",
          "text": [
            "Overriding model.yaml nc=80 with nc=1\n",
            "\n",
            "                   from  n    params  module                                       arguments                     \n",
            "  0                  -1  1       464  ultralytics.nn.modules.conv.Conv             [3, 16, 3, 2]                 \n",
            "  1                  -1  1      4672  ultralytics.nn.modules.conv.Conv             [16, 32, 3, 2]                \n",
            "  2                  -1  1      7360  ultralytics.nn.modules.block.C2f             [32, 32, 1, True]             \n",
            "  3                  -1  1     18560  ultralytics.nn.modules.conv.Conv             [32, 64, 3, 2]                \n",
            "  4                  -1  2     49664  ultralytics.nn.modules.block.C2f             [64, 64, 2, True]             \n",
            "  5                  -1  1     73984  ultralytics.nn.modules.conv.Conv             [64, 128, 3, 2]               \n",
            "  6                  -1  2    197632  ultralytics.nn.modules.block.C2f             [128, 128, 2, True]           \n",
            "  7                  -1  1    295424  ultralytics.nn.modules.conv.Conv             [128, 256, 3, 2]              \n",
            "  8                  -1  1    460288  ultralytics.nn.modules.block.C2f             [256, 256, 1, True]           \n",
            "  9                  -1  1    164608  ultralytics.nn.modules.block.SPPF            [256, 256, 5]                 \n",
            " 10                  -1  1         0  torch.nn.modules.upsampling.Upsample         [None, 2, 'nearest']          \n",
            " 11             [-1, 6]  1         0  ultralytics.nn.modules.conv.Concat           [1]                           \n",
            " 12                  -1  1    148224  ultralytics.nn.modules.block.C2f             [384, 128, 1]                 \n",
            " 13                  -1  1         0  torch.nn.modules.upsampling.Upsample         [None, 2, 'nearest']          \n",
            " 14             [-1, 4]  1         0  ultralytics.nn.modules.conv.Concat           [1]                           \n",
            " 15                  -1  1     37248  ultralytics.nn.modules.block.C2f             [192, 64, 1]                  \n",
            " 16                  -1  1     36992  ultralytics.nn.modules.conv.Conv             [64, 64, 3, 2]                \n",
            " 17            [-1, 12]  1         0  ultralytics.nn.modules.conv.Concat           [1]                           \n",
            " 18                  -1  1    123648  ultralytics.nn.modules.block.C2f             [192, 128, 1]                 \n",
            " 19                  -1  1    147712  ultralytics.nn.modules.conv.Conv             [128, 128, 3, 2]              \n",
            " 20             [-1, 9]  1         0  ultralytics.nn.modules.conv.Concat           [1]                           \n",
            " 21                  -1  1    493056  ultralytics.nn.modules.block.C2f             [384, 256, 1]                 \n",
            " 22        [15, 18, 21]  1    751507  ultralytics.nn.modules.head.Detect           [1, [64, 128, 256]]           \n",
            "YOLOv8n summary: 225 layers, 3011043 parameters, 3011027 gradients, 8.2 GFLOPs\n",
            "\n",
            "Transferred 319/355 items from pretrained weights\n",
            "\u001b[34m\u001b[1mTensorBoard: \u001b[0mStart with 'tensorboard --logdir runs/detect/train2', view at http://localhost:6006/\n",
            "Freezing layer 'model.22.dfl.conv.weight'\n"
          ]
        },
        {
          "output_type": "stream",
          "name": "stderr",
          "text": [
            "\u001b[34m\u001b[1mtrain: \u001b[0mScanning /content/drive/MyDrive/car_dataset/labels/train... 94 images, 0 backgrounds, 0 corrupt: 100%|██████████| 94/94 [02:15<00:00,  1.44s/it]"
          ]
        },
        {
          "output_type": "stream",
          "name": "stdout",
          "text": [
            "\u001b[34m\u001b[1mtrain: \u001b[0mNew cache created: /content/drive/MyDrive/car_dataset/labels/train.cache\n"
          ]
        },
        {
          "output_type": "stream",
          "name": "stderr",
          "text": [
            "\n"
          ]
        },
        {
          "output_type": "stream",
          "name": "stdout",
          "text": [
            "\u001b[34m\u001b[1malbumentations: \u001b[0mBlur(p=0.01, blur_limit=(3, 7)), MedianBlur(p=0.01, blur_limit=(3, 7)), ToGray(p=0.01), CLAHE(p=0.01, clip_limit=(1, 4.0), tile_grid_size=(8, 8))\n"
          ]
        },
        {
          "output_type": "stream",
          "name": "stderr",
          "text": [
            "\u001b[34m\u001b[1mval: \u001b[0mScanning /content/drive/MyDrive/car_dataset/labels/val... 24 images, 0 backgrounds, 0 corrupt: 100%|██████████| 24/24 [00:38<00:00,  1.62s/it]"
          ]
        },
        {
          "output_type": "stream",
          "name": "stdout",
          "text": [
            "\u001b[34m\u001b[1mval: \u001b[0mNew cache created: /content/drive/MyDrive/car_dataset/labels/val.cache\n"
          ]
        },
        {
          "output_type": "stream",
          "name": "stderr",
          "text": [
            "\n"
          ]
        },
        {
          "output_type": "stream",
          "name": "stdout",
          "text": [
            "Plotting labels to runs/detect/train2/labels.jpg... \n",
            "\u001b[34m\u001b[1moptimizer:\u001b[0m 'optimizer=auto' found, ignoring 'lr0=0.01' and 'momentum=0.937' and determining best 'optimizer', 'lr0' and 'momentum' automatically... \n",
            "\u001b[34m\u001b[1moptimizer:\u001b[0m AdamW(lr=0.002, momentum=0.9) with parameter groups 57 weight(decay=0.0), 64 weight(decay=0.0005), 63 bias(decay=0.0)\n",
            "\u001b[34m\u001b[1mTensorBoard: \u001b[0mmodel graph visualization added ✅\n",
            "Image sizes 640 train, 640 val\n",
            "Using 0 dataloader workers\n",
            "Logging results to \u001b[1mruns/detect/train2\u001b[0m\n",
            "Starting training for 30 epochs...\n",
            "\n",
            "      Epoch    GPU_mem   box_loss   cls_loss   dfl_loss  Instances       Size\n"
          ]
        },
        {
          "output_type": "stream",
          "name": "stderr",
          "text": [
            "       1/30         0G      2.351      5.342      1.586         18        640: 100%|██████████| 6/6 [01:32<00:00, 15.43s/it]\n",
            "                 Class     Images  Instances      Box(P          R      mAP50  mAP50-95): 100%|██████████| 1/1 [00:09<00:00,  9.37s/it]"
          ]
        },
        {
          "output_type": "stream",
          "name": "stdout",
          "text": [
            "                   all         24         24   0.000694      0.208   0.000602   0.000168\n"
          ]
        },
        {
          "output_type": "stream",
          "name": "stderr",
          "text": [
            "\n"
          ]
        },
        {
          "output_type": "stream",
          "name": "stdout",
          "text": [
            "\n",
            "      Epoch    GPU_mem   box_loss   cls_loss   dfl_loss  Instances       Size\n"
          ]
        },
        {
          "output_type": "stream",
          "name": "stderr",
          "text": [
            "       2/30         0G      2.275      4.302      1.462         23        640: 100%|██████████| 6/6 [01:34<00:00, 15.80s/it]\n",
            "                 Class     Images  Instances      Box(P          R      mAP50  mAP50-95): 100%|██████████| 1/1 [00:11<00:00, 11.57s/it]"
          ]
        },
        {
          "output_type": "stream",
          "name": "stdout",
          "text": [
            "                   all         24         24    0.00264      0.792     0.0516     0.0212\n"
          ]
        },
        {
          "output_type": "stream",
          "name": "stderr",
          "text": [
            "\n"
          ]
        },
        {
          "output_type": "stream",
          "name": "stdout",
          "text": [
            "\n",
            "      Epoch    GPU_mem   box_loss   cls_loss   dfl_loss  Instances       Size\n"
          ]
        },
        {
          "output_type": "stream",
          "name": "stderr",
          "text": [
            "       3/30         0G      1.954      3.493       1.22         17        640: 100%|██████████| 6/6 [01:57<00:00, 19.66s/it]\n",
            "                 Class     Images  Instances      Box(P          R      mAP50  mAP50-95): 100%|██████████| 1/1 [00:08<00:00,  8.27s/it]"
          ]
        },
        {
          "output_type": "stream",
          "name": "stdout",
          "text": [
            "                   all         24         24    0.00319      0.958      0.221     0.0573\n"
          ]
        },
        {
          "output_type": "stream",
          "name": "stderr",
          "text": [
            "\n"
          ]
        },
        {
          "output_type": "stream",
          "name": "stdout",
          "text": [
            "\n",
            "      Epoch    GPU_mem   box_loss   cls_loss   dfl_loss  Instances       Size\n"
          ]
        },
        {
          "output_type": "stream",
          "name": "stderr",
          "text": [
            "       4/30         0G      1.839      2.805      1.214         27        640: 100%|██████████| 6/6 [01:44<00:00, 17.35s/it]\n",
            "                 Class     Images  Instances      Box(P          R      mAP50  mAP50-95): 100%|██████████| 1/1 [00:11<00:00, 11.07s/it]"
          ]
        },
        {
          "output_type": "stream",
          "name": "stdout",
          "text": [
            "                   all         24         24    0.00278      0.833     0.0138    0.00435\n"
          ]
        },
        {
          "output_type": "stream",
          "name": "stderr",
          "text": [
            "\n"
          ]
        },
        {
          "output_type": "stream",
          "name": "stdout",
          "text": [
            "\n",
            "      Epoch    GPU_mem   box_loss   cls_loss   dfl_loss  Instances       Size\n"
          ]
        },
        {
          "output_type": "stream",
          "name": "stderr",
          "text": [
            "       5/30         0G       1.73      2.621      1.224         23        640: 100%|██████████| 6/6 [01:47<00:00, 17.88s/it]\n",
            "                 Class     Images  Instances      Box(P          R      mAP50  mAP50-95): 100%|██████████| 1/1 [00:07<00:00,  7.96s/it]"
          ]
        },
        {
          "output_type": "stream",
          "name": "stdout",
          "text": [
            "                   all         24         24    0.00292      0.875    0.00794    0.00296\n"
          ]
        },
        {
          "output_type": "stream",
          "name": "stderr",
          "text": [
            "\n"
          ]
        },
        {
          "output_type": "stream",
          "name": "stdout",
          "text": [
            "\n",
            "      Epoch    GPU_mem   box_loss   cls_loss   dfl_loss  Instances       Size\n"
          ]
        },
        {
          "output_type": "stream",
          "name": "stderr",
          "text": [
            "       6/30         0G      1.721      2.364      1.248         27        640: 100%|██████████| 6/6 [01:48<00:00, 18.10s/it]\n",
            "                 Class     Images  Instances      Box(P          R      mAP50  mAP50-95): 100%|██████████| 1/1 [00:07<00:00,  7.30s/it]"
          ]
        },
        {
          "output_type": "stream",
          "name": "stdout",
          "text": [
            "                   all         24         24    0.00264      0.792    0.00393    0.00166\n"
          ]
        },
        {
          "output_type": "stream",
          "name": "stderr",
          "text": [
            "\n"
          ]
        },
        {
          "output_type": "stream",
          "name": "stdout",
          "text": [
            "\n",
            "      Epoch    GPU_mem   box_loss   cls_loss   dfl_loss  Instances       Size\n"
          ]
        },
        {
          "output_type": "stream",
          "name": "stderr",
          "text": [
            "       7/30         0G      1.656      2.363      1.257         25        640: 100%|██████████| 6/6 [01:32<00:00, 15.46s/it]\n",
            "                 Class     Images  Instances      Box(P          R      mAP50  mAP50-95): 100%|██████████| 1/1 [00:07<00:00,  7.84s/it]"
          ]
        },
        {
          "output_type": "stream",
          "name": "stdout",
          "text": [
            "                   all         24         24    0.00292      0.875    0.00466    0.00203\n"
          ]
        },
        {
          "output_type": "stream",
          "name": "stderr",
          "text": [
            "\n"
          ]
        },
        {
          "output_type": "stream",
          "name": "stdout",
          "text": [
            "\n",
            "      Epoch    GPU_mem   box_loss   cls_loss   dfl_loss  Instances       Size\n"
          ]
        },
        {
          "output_type": "stream",
          "name": "stderr",
          "text": [
            "       8/30         0G      1.614      1.976      1.134         26        640: 100%|██████████| 6/6 [01:30<00:00, 15.05s/it]\n",
            "                 Class     Images  Instances      Box(P          R      mAP50  mAP50-95): 100%|██████████| 1/1 [00:07<00:00,  7.18s/it]"
          ]
        },
        {
          "output_type": "stream",
          "name": "stdout",
          "text": [
            "                   all         24         24    0.00306      0.917    0.00776     0.0041\n"
          ]
        },
        {
          "output_type": "stream",
          "name": "stderr",
          "text": [
            "\n"
          ]
        },
        {
          "output_type": "stream",
          "name": "stdout",
          "text": [
            "\n",
            "      Epoch    GPU_mem   box_loss   cls_loss   dfl_loss  Instances       Size\n"
          ]
        },
        {
          "output_type": "stream",
          "name": "stderr",
          "text": [
            "       9/30         0G       1.71      2.129       1.21         31        640: 100%|██████████| 6/6 [01:22<00:00, 13.75s/it]\n",
            "                 Class     Images  Instances      Box(P          R      mAP50  mAP50-95): 100%|██████████| 1/1 [00:07<00:00,  7.09s/it]"
          ]
        },
        {
          "output_type": "stream",
          "name": "stdout",
          "text": [
            "                   all         24         24    0.00278      0.833    0.00464      0.002\n"
          ]
        },
        {
          "output_type": "stream",
          "name": "stderr",
          "text": [
            "\n"
          ]
        },
        {
          "output_type": "stream",
          "name": "stdout",
          "text": [
            "\n",
            "      Epoch    GPU_mem   box_loss   cls_loss   dfl_loss  Instances       Size\n"
          ]
        },
        {
          "output_type": "stream",
          "name": "stderr",
          "text": [
            "      10/30         0G      1.685       2.03      1.138         26        640: 100%|██████████| 6/6 [01:25<00:00, 14.31s/it]\n",
            "                 Class     Images  Instances      Box(P          R      mAP50  mAP50-95): 100%|██████████| 1/1 [00:08<00:00,  8.20s/it]"
          ]
        },
        {
          "output_type": "stream",
          "name": "stdout",
          "text": [
            "                   all         24         24          1      0.142      0.361      0.146\n"
          ]
        },
        {
          "output_type": "stream",
          "name": "stderr",
          "text": [
            "\n"
          ]
        },
        {
          "output_type": "stream",
          "name": "stdout",
          "text": [
            "\n",
            "      Epoch    GPU_mem   box_loss   cls_loss   dfl_loss  Instances       Size\n"
          ]
        },
        {
          "output_type": "stream",
          "name": "stderr",
          "text": [
            "      11/30         0G      1.686      1.992        1.1         20        640: 100%|██████████| 6/6 [01:29<00:00, 14.90s/it]\n",
            "                 Class     Images  Instances      Box(P          R      mAP50  mAP50-95): 100%|██████████| 1/1 [00:08<00:00,  8.44s/it]"
          ]
        },
        {
          "output_type": "stream",
          "name": "stdout",
          "text": [
            "                   all         24         24       0.32      0.158      0.138     0.0627\n"
          ]
        },
        {
          "output_type": "stream",
          "name": "stderr",
          "text": [
            "\n"
          ]
        },
        {
          "output_type": "stream",
          "name": "stdout",
          "text": [
            "\n",
            "      Epoch    GPU_mem   box_loss   cls_loss   dfl_loss  Instances       Size\n"
          ]
        },
        {
          "output_type": "stream",
          "name": "stderr",
          "text": [
            "      12/30         0G      1.608      1.854      1.134         25        640: 100%|██████████| 6/6 [01:25<00:00, 14.23s/it]\n",
            "                 Class     Images  Instances      Box(P          R      mAP50  mAP50-95): 100%|██████████| 1/1 [00:07<00:00,  7.16s/it]"
          ]
        },
        {
          "output_type": "stream",
          "name": "stdout",
          "text": [
            "                   all         24         24     0.0164      0.208      0.018    0.00838\n"
          ]
        },
        {
          "output_type": "stream",
          "name": "stderr",
          "text": [
            "\n"
          ]
        },
        {
          "output_type": "stream",
          "name": "stdout",
          "text": [
            "\n",
            "      Epoch    GPU_mem   box_loss   cls_loss   dfl_loss  Instances       Size\n"
          ]
        },
        {
          "output_type": "stream",
          "name": "stderr",
          "text": [
            "      13/30         0G      1.518      1.869      1.132         19        640: 100%|██████████| 6/6 [01:22<00:00, 13.77s/it]\n",
            "                 Class     Images  Instances      Box(P          R      mAP50  mAP50-95): 100%|██████████| 1/1 [00:07<00:00,  7.42s/it]"
          ]
        },
        {
          "output_type": "stream",
          "name": "stdout",
          "text": [
            "                   all         24         24     0.0217      0.208     0.0187     0.0084\n"
          ]
        },
        {
          "output_type": "stream",
          "name": "stderr",
          "text": [
            "\n"
          ]
        },
        {
          "output_type": "stream",
          "name": "stdout",
          "text": [
            "\n",
            "      Epoch    GPU_mem   box_loss   cls_loss   dfl_loss  Instances       Size\n"
          ]
        },
        {
          "output_type": "stream",
          "name": "stderr",
          "text": [
            "      14/30         0G      1.503      1.699      1.124         31        640: 100%|██████████| 6/6 [01:21<00:00, 13.62s/it]\n",
            "                 Class     Images  Instances      Box(P          R      mAP50  mAP50-95): 100%|██████████| 1/1 [00:08<00:00,  8.42s/it]"
          ]
        },
        {
          "output_type": "stream",
          "name": "stdout",
          "text": [
            "                   all         24         24          1      0.125       0.59      0.263\n"
          ]
        },
        {
          "output_type": "stream",
          "name": "stderr",
          "text": [
            "\n"
          ]
        },
        {
          "output_type": "stream",
          "name": "stdout",
          "text": [
            "\n",
            "      Epoch    GPU_mem   box_loss   cls_loss   dfl_loss  Instances       Size\n"
          ]
        },
        {
          "output_type": "stream",
          "name": "stderr",
          "text": [
            "      15/30         0G       1.44      1.681      1.122         33        640: 100%|██████████| 6/6 [01:24<00:00, 14.02s/it]\n",
            "                 Class     Images  Instances      Box(P          R      mAP50  mAP50-95): 100%|██████████| 1/1 [00:08<00:00,  8.62s/it]"
          ]
        },
        {
          "output_type": "stream",
          "name": "stdout",
          "text": [
            "                   all         24         24     0.0365     0.0833      0.106     0.0687\n"
          ]
        },
        {
          "output_type": "stream",
          "name": "stderr",
          "text": [
            "\n"
          ]
        },
        {
          "output_type": "stream",
          "name": "stdout",
          "text": [
            "\n",
            "      Epoch    GPU_mem   box_loss   cls_loss   dfl_loss  Instances       Size\n"
          ]
        },
        {
          "output_type": "stream",
          "name": "stderr",
          "text": [
            "      16/30         0G      1.412      1.631      1.129         24        640: 100%|██████████| 6/6 [01:29<00:00, 14.89s/it]\n",
            "                 Class     Images  Instances      Box(P          R      mAP50  mAP50-95): 100%|██████████| 1/1 [00:07<00:00,  7.91s/it]"
          ]
        },
        {
          "output_type": "stream",
          "name": "stdout",
          "text": [
            "                   all         24         24      0.937      0.615      0.778      0.424\n"
          ]
        },
        {
          "output_type": "stream",
          "name": "stderr",
          "text": [
            "\n"
          ]
        },
        {
          "output_type": "stream",
          "name": "stdout",
          "text": [
            "\n",
            "      Epoch    GPU_mem   box_loss   cls_loss   dfl_loss  Instances       Size\n"
          ]
        },
        {
          "output_type": "stream",
          "name": "stderr",
          "text": [
            "      17/30         0G      1.461      1.679      1.181         26        640: 100%|██████████| 6/6 [01:27<00:00, 14.58s/it]\n",
            "                 Class     Images  Instances      Box(P          R      mAP50  mAP50-95): 100%|██████████| 1/1 [00:09<00:00,  9.10s/it]"
          ]
        },
        {
          "output_type": "stream",
          "name": "stdout",
          "text": [
            "                   all         24         24      0.886      0.583      0.774      0.394\n"
          ]
        },
        {
          "output_type": "stream",
          "name": "stderr",
          "text": [
            "\n"
          ]
        },
        {
          "output_type": "stream",
          "name": "stdout",
          "text": [
            "\n",
            "      Epoch    GPU_mem   box_loss   cls_loss   dfl_loss  Instances       Size\n"
          ]
        },
        {
          "output_type": "stream",
          "name": "stderr",
          "text": [
            "      18/30         0G      1.383      1.558      1.118         26        640: 100%|██████████| 6/6 [01:20<00:00, 13.49s/it]\n",
            "                 Class     Images  Instances      Box(P          R      mAP50  mAP50-95): 100%|██████████| 1/1 [00:08<00:00,  8.30s/it]"
          ]
        },
        {
          "output_type": "stream",
          "name": "stdout",
          "text": [
            "                   all         24         24      0.922      0.708      0.835      0.445\n"
          ]
        },
        {
          "output_type": "stream",
          "name": "stderr",
          "text": [
            "\n"
          ]
        },
        {
          "output_type": "stream",
          "name": "stdout",
          "text": [
            "\n",
            "      Epoch    GPU_mem   box_loss   cls_loss   dfl_loss  Instances       Size\n"
          ]
        },
        {
          "output_type": "stream",
          "name": "stderr",
          "text": [
            "      19/30         0G      1.395        1.5      1.091         33        640: 100%|██████████| 6/6 [01:19<00:00, 13.23s/it]\n",
            "                 Class     Images  Instances      Box(P          R      mAP50  mAP50-95): 100%|██████████| 1/1 [00:06<00:00,  6.87s/it]"
          ]
        },
        {
          "output_type": "stream",
          "name": "stdout",
          "text": [
            "                   all         24         24          1      0.774      0.912      0.473\n"
          ]
        },
        {
          "output_type": "stream",
          "name": "stderr",
          "text": [
            "\n"
          ]
        },
        {
          "output_type": "stream",
          "name": "stdout",
          "text": [
            "\n",
            "      Epoch    GPU_mem   box_loss   cls_loss   dfl_loss  Instances       Size\n"
          ]
        },
        {
          "output_type": "stream",
          "name": "stderr",
          "text": [
            "      20/30         0G       1.42      1.388      1.097         26        640: 100%|██████████| 6/6 [01:23<00:00, 13.84s/it]\n",
            "                 Class     Images  Instances      Box(P          R      mAP50  mAP50-95): 100%|██████████| 1/1 [00:07<00:00,  7.15s/it]"
          ]
        },
        {
          "output_type": "stream",
          "name": "stdout",
          "text": [
            "                   all         24         24      0.907       0.75      0.842      0.443\n"
          ]
        },
        {
          "output_type": "stream",
          "name": "stderr",
          "text": [
            "\n"
          ]
        },
        {
          "output_type": "stream",
          "name": "stdout",
          "text": [
            "Closing dataloader mosaic\n",
            "\u001b[34m\u001b[1malbumentations: \u001b[0mBlur(p=0.01, blur_limit=(3, 7)), MedianBlur(p=0.01, blur_limit=(3, 7)), ToGray(p=0.01), CLAHE(p=0.01, clip_limit=(1, 4.0), tile_grid_size=(8, 8))\n",
            "\n",
            "      Epoch    GPU_mem   box_loss   cls_loss   dfl_loss  Instances       Size\n"
          ]
        },
        {
          "output_type": "stream",
          "name": "stderr",
          "text": [
            "      21/30         0G      1.356      1.872      1.201         14        640: 100%|██████████| 6/6 [01:33<00:00, 15.62s/it]\n",
            "                 Class     Images  Instances      Box(P          R      mAP50  mAP50-95): 100%|██████████| 1/1 [00:09<00:00,  9.10s/it]"
          ]
        },
        {
          "output_type": "stream",
          "name": "stdout",
          "text": [
            "                   all         24         24      0.986       0.75      0.878      0.441\n"
          ]
        },
        {
          "output_type": "stream",
          "name": "stderr",
          "text": [
            "\n"
          ]
        },
        {
          "output_type": "stream",
          "name": "stdout",
          "text": [
            "\n",
            "      Epoch    GPU_mem   box_loss   cls_loss   dfl_loss  Instances       Size\n"
          ]
        },
        {
          "output_type": "stream",
          "name": "stderr",
          "text": [
            "      22/30         0G      1.278      1.796       1.16         14        640: 100%|██████████| 6/6 [01:30<00:00, 15.12s/it]\n",
            "                 Class     Images  Instances      Box(P          R      mAP50  mAP50-95): 100%|██████████| 1/1 [00:07<00:00,  7.34s/it]"
          ]
        },
        {
          "output_type": "stream",
          "name": "stdout",
          "text": [
            "                   all         24         24      0.808      0.701      0.813      0.393\n"
          ]
        },
        {
          "output_type": "stream",
          "name": "stderr",
          "text": [
            "\n"
          ]
        },
        {
          "output_type": "stream",
          "name": "stdout",
          "text": [
            "\n",
            "      Epoch    GPU_mem   box_loss   cls_loss   dfl_loss  Instances       Size\n"
          ]
        },
        {
          "output_type": "stream",
          "name": "stderr",
          "text": [
            "      23/30         0G      1.336      1.727      1.156         14        640: 100%|██████████| 6/6 [01:21<00:00, 13.65s/it]\n",
            "                 Class     Images  Instances      Box(P          R      mAP50  mAP50-95): 100%|██████████| 1/1 [00:06<00:00,  6.79s/it]"
          ]
        },
        {
          "output_type": "stream",
          "name": "stdout",
          "text": [
            "                   all         24         24      0.776      0.708      0.848       0.43\n"
          ]
        },
        {
          "output_type": "stream",
          "name": "stderr",
          "text": [
            "\n"
          ]
        },
        {
          "output_type": "stream",
          "name": "stdout",
          "text": [
            "\n",
            "      Epoch    GPU_mem   box_loss   cls_loss   dfl_loss  Instances       Size\n"
          ]
        },
        {
          "output_type": "stream",
          "name": "stderr",
          "text": [
            "      24/30         0G      1.225      1.562      1.079         14        640: 100%|██████████| 6/6 [01:21<00:00, 13.52s/it]\n",
            "                 Class     Images  Instances      Box(P          R      mAP50  mAP50-95): 100%|██████████| 1/1 [00:08<00:00,  8.10s/it]"
          ]
        },
        {
          "output_type": "stream",
          "name": "stdout",
          "text": [
            "                   all         24         24      0.836      0.792       0.81      0.466\n"
          ]
        },
        {
          "output_type": "stream",
          "name": "stderr",
          "text": [
            "\n"
          ]
        },
        {
          "output_type": "stream",
          "name": "stdout",
          "text": [
            "\n",
            "      Epoch    GPU_mem   box_loss   cls_loss   dfl_loss  Instances       Size\n"
          ]
        },
        {
          "output_type": "stream",
          "name": "stderr",
          "text": [
            "      25/30         0G      1.207      1.504      1.067         14        640: 100%|██████████| 6/6 [01:18<00:00, 13.06s/it]\n",
            "                 Class     Images  Instances      Box(P          R      mAP50  mAP50-95): 100%|██████████| 1/1 [00:08<00:00,  8.93s/it]"
          ]
        },
        {
          "output_type": "stream",
          "name": "stdout",
          "text": [
            "                   all         24         24      0.884      0.792      0.826      0.452\n"
          ]
        },
        {
          "output_type": "stream",
          "name": "stderr",
          "text": [
            "\n"
          ]
        },
        {
          "output_type": "stream",
          "name": "stdout",
          "text": [
            "\n",
            "      Epoch    GPU_mem   box_loss   cls_loss   dfl_loss  Instances       Size\n"
          ]
        },
        {
          "output_type": "stream",
          "name": "stderr",
          "text": [
            "      26/30         0G      1.202      1.473      1.077         14        640: 100%|██████████| 6/6 [01:25<00:00, 14.26s/it]\n",
            "                 Class     Images  Instances      Box(P          R      mAP50  mAP50-95): 100%|██████████| 1/1 [00:09<00:00,  9.62s/it]"
          ]
        },
        {
          "output_type": "stream",
          "name": "stdout",
          "text": [
            "                   all         24         24      0.868      0.822      0.827       0.48\n"
          ]
        },
        {
          "output_type": "stream",
          "name": "stderr",
          "text": [
            "\n"
          ]
        },
        {
          "output_type": "stream",
          "name": "stdout",
          "text": [
            "\n",
            "      Epoch    GPU_mem   box_loss   cls_loss   dfl_loss  Instances       Size\n"
          ]
        },
        {
          "output_type": "stream",
          "name": "stderr",
          "text": [
            "      27/30         0G      1.214      1.404      1.075         14        640: 100%|██████████| 6/6 [01:29<00:00, 14.96s/it]\n",
            "                 Class     Images  Instances      Box(P          R      mAP50  mAP50-95): 100%|██████████| 1/1 [00:09<00:00,  9.11s/it]"
          ]
        },
        {
          "output_type": "stream",
          "name": "stdout",
          "text": [
            "                   all         24         24      0.872      0.856      0.827       0.48\n"
          ]
        },
        {
          "output_type": "stream",
          "name": "stderr",
          "text": [
            "\n"
          ]
        },
        {
          "output_type": "stream",
          "name": "stdout",
          "text": [
            "\n",
            "      Epoch    GPU_mem   box_loss   cls_loss   dfl_loss  Instances       Size\n"
          ]
        },
        {
          "output_type": "stream",
          "name": "stderr",
          "text": [
            "      28/30         0G      1.124      1.372      1.058         14        640: 100%|██████████| 6/6 [01:37<00:00, 16.24s/it]\n",
            "                 Class     Images  Instances      Box(P          R      mAP50  mAP50-95): 100%|██████████| 1/1 [00:08<00:00,  8.20s/it]"
          ]
        },
        {
          "output_type": "stream",
          "name": "stdout",
          "text": [
            "                   all         24         24      0.901      0.917      0.899      0.496\n"
          ]
        },
        {
          "output_type": "stream",
          "name": "stderr",
          "text": [
            "\n"
          ]
        },
        {
          "output_type": "stream",
          "name": "stdout",
          "text": [
            "\n",
            "      Epoch    GPU_mem   box_loss   cls_loss   dfl_loss  Instances       Size\n"
          ]
        },
        {
          "output_type": "stream",
          "name": "stderr",
          "text": [
            "      29/30         0G      1.192      1.386      1.058         14        640: 100%|██████████| 6/6 [01:27<00:00, 14.55s/it]\n",
            "                 Class     Images  Instances      Box(P          R      mAP50  mAP50-95): 100%|██████████| 1/1 [00:09<00:00,  9.52s/it]"
          ]
        },
        {
          "output_type": "stream",
          "name": "stdout",
          "text": [
            "                   all         24         24      0.902      0.917      0.917      0.496\n"
          ]
        },
        {
          "output_type": "stream",
          "name": "stderr",
          "text": [
            "\n"
          ]
        },
        {
          "output_type": "stream",
          "name": "stdout",
          "text": [
            "\n",
            "      Epoch    GPU_mem   box_loss   cls_loss   dfl_loss  Instances       Size\n"
          ]
        },
        {
          "output_type": "stream",
          "name": "stderr",
          "text": [
            "      30/30         0G       1.13      1.328      1.031         14        640: 100%|██████████| 6/6 [01:21<00:00, 13.54s/it]\n",
            "                 Class     Images  Instances      Box(P          R      mAP50  mAP50-95): 100%|██████████| 1/1 [00:08<00:00,  8.72s/it]"
          ]
        },
        {
          "output_type": "stream",
          "name": "stdout",
          "text": [
            "                   all         24         24      0.902      0.917      0.921      0.503\n"
          ]
        },
        {
          "output_type": "stream",
          "name": "stderr",
          "text": [
            "\n"
          ]
        },
        {
          "output_type": "stream",
          "name": "stdout",
          "text": [
            "\n",
            "30 epochs completed in 0.825 hours.\n",
            "Optimizer stripped from runs/detect/train2/weights/last.pt, 6.2MB\n",
            "Optimizer stripped from runs/detect/train2/weights/best.pt, 6.2MB\n",
            "\n",
            "Validating runs/detect/train2/weights/best.pt...\n",
            "Ultralytics YOLOv8.2.18 🚀 Python-3.10.12 torch-2.2.1+cu121 CPU (Intel Xeon 2.20GHz)\n",
            "YOLOv8n summary (fused): 168 layers, 3005843 parameters, 0 gradients, 8.1 GFLOPs\n"
          ]
        },
        {
          "output_type": "stream",
          "name": "stderr",
          "text": [
            "                 Class     Images  Instances      Box(P          R      mAP50  mAP50-95): 100%|██████████| 1/1 [00:06<00:00,  6.03s/it]\n"
          ]
        },
        {
          "output_type": "stream",
          "name": "stdout",
          "text": [
            "                   all         24         24      0.902      0.917      0.921      0.503\n",
            "Speed: 2.7ms preprocess, 215.1ms inference, 0.0ms loss, 7.1ms postprocess per image\n",
            "Results saved to \u001b[1mruns/detect/train2\u001b[0m\n"
          ]
        },
        {
          "output_type": "execute_result",
          "data": {
            "text/plain": [
              "ultralytics.utils.metrics.DetMetrics object with attributes:\n",
              "\n",
              "ap_class_index: array([0])\n",
              "box: ultralytics.utils.metrics.Metric object\n",
              "confusion_matrix: <ultralytics.utils.metrics.ConfusionMatrix object at 0x7b0b3089b5e0>\n",
              "curves: ['Precision-Recall(B)', 'F1-Confidence(B)', 'Precision-Confidence(B)', 'Recall-Confidence(B)']\n",
              "curves_results: [[array([          0,    0.001001,    0.002002,    0.003003,    0.004004,    0.005005,    0.006006,    0.007007,    0.008008,    0.009009,     0.01001,    0.011011,    0.012012,    0.013013,    0.014014,    0.015015,    0.016016,    0.017017,    0.018018,    0.019019,     0.02002,    0.021021,    0.022022,    0.023023,\n",
              "          0.024024,    0.025025,    0.026026,    0.027027,    0.028028,    0.029029,     0.03003,    0.031031,    0.032032,    0.033033,    0.034034,    0.035035,    0.036036,    0.037037,    0.038038,    0.039039,     0.04004,    0.041041,    0.042042,    0.043043,    0.044044,    0.045045,    0.046046,    0.047047,\n",
              "          0.048048,    0.049049,     0.05005,    0.051051,    0.052052,    0.053053,    0.054054,    0.055055,    0.056056,    0.057057,    0.058058,    0.059059,     0.06006,    0.061061,    0.062062,    0.063063,    0.064064,    0.065065,    0.066066,    0.067067,    0.068068,    0.069069,     0.07007,    0.071071,\n",
              "          0.072072,    0.073073,    0.074074,    0.075075,    0.076076,    0.077077,    0.078078,    0.079079,     0.08008,    0.081081,    0.082082,    0.083083,    0.084084,    0.085085,    0.086086,    0.087087,    0.088088,    0.089089,     0.09009,    0.091091,    0.092092,    0.093093,    0.094094,    0.095095,\n",
              "          0.096096,    0.097097,    0.098098,    0.099099,      0.1001,      0.1011,      0.1021,      0.1031,      0.1041,     0.10511,     0.10611,     0.10711,     0.10811,     0.10911,     0.11011,     0.11111,     0.11211,     0.11311,     0.11411,     0.11512,     0.11612,     0.11712,     0.11812,     0.11912,\n",
              "           0.12012,     0.12112,     0.12212,     0.12312,     0.12412,     0.12513,     0.12613,     0.12713,     0.12813,     0.12913,     0.13013,     0.13113,     0.13213,     0.13313,     0.13413,     0.13514,     0.13614,     0.13714,     0.13814,     0.13914,     0.14014,     0.14114,     0.14214,     0.14314,\n",
              "           0.14414,     0.14515,     0.14615,     0.14715,     0.14815,     0.14915,     0.15015,     0.15115,     0.15215,     0.15315,     0.15415,     0.15516,     0.15616,     0.15716,     0.15816,     0.15916,     0.16016,     0.16116,     0.16216,     0.16316,     0.16416,     0.16517,     0.16617,     0.16717,\n",
              "           0.16817,     0.16917,     0.17017,     0.17117,     0.17217,     0.17317,     0.17417,     0.17518,     0.17618,     0.17718,     0.17818,     0.17918,     0.18018,     0.18118,     0.18218,     0.18318,     0.18418,     0.18519,     0.18619,     0.18719,     0.18819,     0.18919,     0.19019,     0.19119,\n",
              "           0.19219,     0.19319,     0.19419,      0.1952,      0.1962,      0.1972,      0.1982,      0.1992,      0.2002,      0.2012,      0.2022,      0.2032,      0.2042,     0.20521,     0.20621,     0.20721,     0.20821,     0.20921,     0.21021,     0.21121,     0.21221,     0.21321,     0.21421,     0.21522,\n",
              "           0.21622,     0.21722,     0.21822,     0.21922,     0.22022,     0.22122,     0.22222,     0.22322,     0.22422,     0.22523,     0.22623,     0.22723,     0.22823,     0.22923,     0.23023,     0.23123,     0.23223,     0.23323,     0.23423,     0.23524,     0.23624,     0.23724,     0.23824,     0.23924,\n",
              "           0.24024,     0.24124,     0.24224,     0.24324,     0.24424,     0.24525,     0.24625,     0.24725,     0.24825,     0.24925,     0.25025,     0.25125,     0.25225,     0.25325,     0.25425,     0.25526,     0.25626,     0.25726,     0.25826,     0.25926,     0.26026,     0.26126,     0.26226,     0.26326,\n",
              "           0.26426,     0.26527,     0.26627,     0.26727,     0.26827,     0.26927,     0.27027,     0.27127,     0.27227,     0.27327,     0.27427,     0.27528,     0.27628,     0.27728,     0.27828,     0.27928,     0.28028,     0.28128,     0.28228,     0.28328,     0.28428,     0.28529,     0.28629,     0.28729,\n",
              "           0.28829,     0.28929,     0.29029,     0.29129,     0.29229,     0.29329,     0.29429,      0.2953,      0.2963,      0.2973,      0.2983,      0.2993,      0.3003,      0.3013,      0.3023,      0.3033,      0.3043,     0.30531,     0.30631,     0.30731,     0.30831,     0.30931,     0.31031,     0.31131,\n",
              "           0.31231,     0.31331,     0.31431,     0.31532,     0.31632,     0.31732,     0.31832,     0.31932,     0.32032,     0.32132,     0.32232,     0.32332,     0.32432,     0.32533,     0.32633,     0.32733,     0.32833,     0.32933,     0.33033,     0.33133,     0.33233,     0.33333,     0.33433,     0.33534,\n",
              "           0.33634,     0.33734,     0.33834,     0.33934,     0.34034,     0.34134,     0.34234,     0.34334,     0.34434,     0.34535,     0.34635,     0.34735,     0.34835,     0.34935,     0.35035,     0.35135,     0.35235,     0.35335,     0.35435,     0.35536,     0.35636,     0.35736,     0.35836,     0.35936,\n",
              "           0.36036,     0.36136,     0.36236,     0.36336,     0.36436,     0.36537,     0.36637,     0.36737,     0.36837,     0.36937,     0.37037,     0.37137,     0.37237,     0.37337,     0.37437,     0.37538,     0.37638,     0.37738,     0.37838,     0.37938,     0.38038,     0.38138,     0.38238,     0.38338,\n",
              "           0.38438,     0.38539,     0.38639,     0.38739,     0.38839,     0.38939,     0.39039,     0.39139,     0.39239,     0.39339,     0.39439,      0.3954,      0.3964,      0.3974,      0.3984,      0.3994,      0.4004,      0.4014,      0.4024,      0.4034,      0.4044,     0.40541,     0.40641,     0.40741,\n",
              "           0.40841,     0.40941,     0.41041,     0.41141,     0.41241,     0.41341,     0.41441,     0.41542,     0.41642,     0.41742,     0.41842,     0.41942,     0.42042,     0.42142,     0.42242,     0.42342,     0.42442,     0.42543,     0.42643,     0.42743,     0.42843,     0.42943,     0.43043,     0.43143,\n",
              "           0.43243,     0.43343,     0.43443,     0.43544,     0.43644,     0.43744,     0.43844,     0.43944,     0.44044,     0.44144,     0.44244,     0.44344,     0.44444,     0.44545,     0.44645,     0.44745,     0.44845,     0.44945,     0.45045,     0.45145,     0.45245,     0.45345,     0.45445,     0.45546,\n",
              "           0.45646,     0.45746,     0.45846,     0.45946,     0.46046,     0.46146,     0.46246,     0.46346,     0.46446,     0.46547,     0.46647,     0.46747,     0.46847,     0.46947,     0.47047,     0.47147,     0.47247,     0.47347,     0.47447,     0.47548,     0.47648,     0.47748,     0.47848,     0.47948,\n",
              "           0.48048,     0.48148,     0.48248,     0.48348,     0.48448,     0.48549,     0.48649,     0.48749,     0.48849,     0.48949,     0.49049,     0.49149,     0.49249,     0.49349,     0.49449,      0.4955,      0.4965,      0.4975,      0.4985,      0.4995,      0.5005,      0.5015,      0.5025,      0.5035,\n",
              "            0.5045,     0.50551,     0.50651,     0.50751,     0.50851,     0.50951,     0.51051,     0.51151,     0.51251,     0.51351,     0.51451,     0.51552,     0.51652,     0.51752,     0.51852,     0.51952,     0.52052,     0.52152,     0.52252,     0.52352,     0.52452,     0.52553,     0.52653,     0.52753,\n",
              "           0.52853,     0.52953,     0.53053,     0.53153,     0.53253,     0.53353,     0.53453,     0.53554,     0.53654,     0.53754,     0.53854,     0.53954,     0.54054,     0.54154,     0.54254,     0.54354,     0.54454,     0.54555,     0.54655,     0.54755,     0.54855,     0.54955,     0.55055,     0.55155,\n",
              "           0.55255,     0.55355,     0.55455,     0.55556,     0.55656,     0.55756,     0.55856,     0.55956,     0.56056,     0.56156,     0.56256,     0.56356,     0.56456,     0.56557,     0.56657,     0.56757,     0.56857,     0.56957,     0.57057,     0.57157,     0.57257,     0.57357,     0.57457,     0.57558,\n",
              "           0.57658,     0.57758,     0.57858,     0.57958,     0.58058,     0.58158,     0.58258,     0.58358,     0.58458,     0.58559,     0.58659,     0.58759,     0.58859,     0.58959,     0.59059,     0.59159,     0.59259,     0.59359,     0.59459,      0.5956,      0.5966,      0.5976,      0.5986,      0.5996,\n",
              "            0.6006,      0.6016,      0.6026,      0.6036,      0.6046,     0.60561,     0.60661,     0.60761,     0.60861,     0.60961,     0.61061,     0.61161,     0.61261,     0.61361,     0.61461,     0.61562,     0.61662,     0.61762,     0.61862,     0.61962,     0.62062,     0.62162,     0.62262,     0.62362,\n",
              "           0.62462,     0.62563,     0.62663,     0.62763,     0.62863,     0.62963,     0.63063,     0.63163,     0.63263,     0.63363,     0.63463,     0.63564,     0.63664,     0.63764,     0.63864,     0.63964,     0.64064,     0.64164,     0.64264,     0.64364,     0.64464,     0.64565,     0.64665,     0.64765,\n",
              "           0.64865,     0.64965,     0.65065,     0.65165,     0.65265,     0.65365,     0.65465,     0.65566,     0.65666,     0.65766,     0.65866,     0.65966,     0.66066,     0.66166,     0.66266,     0.66366,     0.66466,     0.66567,     0.66667,     0.66767,     0.66867,     0.66967,     0.67067,     0.67167,\n",
              "           0.67267,     0.67367,     0.67467,     0.67568,     0.67668,     0.67768,     0.67868,     0.67968,     0.68068,     0.68168,     0.68268,     0.68368,     0.68468,     0.68569,     0.68669,     0.68769,     0.68869,     0.68969,     0.69069,     0.69169,     0.69269,     0.69369,     0.69469,      0.6957,\n",
              "            0.6967,      0.6977,      0.6987,      0.6997,      0.7007,      0.7017,      0.7027,      0.7037,      0.7047,     0.70571,     0.70671,     0.70771,     0.70871,     0.70971,     0.71071,     0.71171,     0.71271,     0.71371,     0.71471,     0.71572,     0.71672,     0.71772,     0.71872,     0.71972,\n",
              "           0.72072,     0.72172,     0.72272,     0.72372,     0.72472,     0.72573,     0.72673,     0.72773,     0.72873,     0.72973,     0.73073,     0.73173,     0.73273,     0.73373,     0.73473,     0.73574,     0.73674,     0.73774,     0.73874,     0.73974,     0.74074,     0.74174,     0.74274,     0.74374,\n",
              "           0.74474,     0.74575,     0.74675,     0.74775,     0.74875,     0.74975,     0.75075,     0.75175,     0.75275,     0.75375,     0.75475,     0.75576,     0.75676,     0.75776,     0.75876,     0.75976,     0.76076,     0.76176,     0.76276,     0.76376,     0.76476,     0.76577,     0.76677,     0.76777,\n",
              "           0.76877,     0.76977,     0.77077,     0.77177,     0.77277,     0.77377,     0.77477,     0.77578,     0.77678,     0.77778,     0.77878,     0.77978,     0.78078,     0.78178,     0.78278,     0.78378,     0.78478,     0.78579,     0.78679,     0.78779,     0.78879,     0.78979,     0.79079,     0.79179,\n",
              "           0.79279,     0.79379,     0.79479,      0.7958,      0.7968,      0.7978,      0.7988,      0.7998,      0.8008,      0.8018,      0.8028,      0.8038,      0.8048,     0.80581,     0.80681,     0.80781,     0.80881,     0.80981,     0.81081,     0.81181,     0.81281,     0.81381,     0.81481,     0.81582,\n",
              "           0.81682,     0.81782,     0.81882,     0.81982,     0.82082,     0.82182,     0.82282,     0.82382,     0.82482,     0.82583,     0.82683,     0.82783,     0.82883,     0.82983,     0.83083,     0.83183,     0.83283,     0.83383,     0.83483,     0.83584,     0.83684,     0.83784,     0.83884,     0.83984,\n",
              "           0.84084,     0.84184,     0.84284,     0.84384,     0.84484,     0.84585,     0.84685,     0.84785,     0.84885,     0.84985,     0.85085,     0.85185,     0.85285,     0.85385,     0.85485,     0.85586,     0.85686,     0.85786,     0.85886,     0.85986,     0.86086,     0.86186,     0.86286,     0.86386,\n",
              "           0.86486,     0.86587,     0.86687,     0.86787,     0.86887,     0.86987,     0.87087,     0.87187,     0.87287,     0.87387,     0.87487,     0.87588,     0.87688,     0.87788,     0.87888,     0.87988,     0.88088,     0.88188,     0.88288,     0.88388,     0.88488,     0.88589,     0.88689,     0.88789,\n",
              "           0.88889,     0.88989,     0.89089,     0.89189,     0.89289,     0.89389,     0.89489,      0.8959,      0.8969,      0.8979,      0.8989,      0.8999,      0.9009,      0.9019,      0.9029,      0.9039,      0.9049,     0.90591,     0.90691,     0.90791,     0.90891,     0.90991,     0.91091,     0.91191,\n",
              "           0.91291,     0.91391,     0.91491,     0.91592,     0.91692,     0.91792,     0.91892,     0.91992,     0.92092,     0.92192,     0.92292,     0.92392,     0.92492,     0.92593,     0.92693,     0.92793,     0.92893,     0.92993,     0.93093,     0.93193,     0.93293,     0.93393,     0.93493,     0.93594,\n",
              "           0.93694,     0.93794,     0.93894,     0.93994,     0.94094,     0.94194,     0.94294,     0.94394,     0.94494,     0.94595,     0.94695,     0.94795,     0.94895,     0.94995,     0.95095,     0.95195,     0.95295,     0.95395,     0.95495,     0.95596,     0.95696,     0.95796,     0.95896,     0.95996,\n",
              "           0.96096,     0.96196,     0.96296,     0.96396,     0.96496,     0.96597,     0.96697,     0.96797,     0.96897,     0.96997,     0.97097,     0.97197,     0.97297,     0.97397,     0.97497,     0.97598,     0.97698,     0.97798,     0.97898,     0.97998,     0.98098,     0.98198,     0.98298,     0.98398,\n",
              "           0.98498,     0.98599,     0.98699,     0.98799,     0.98899,     0.98999,     0.99099,     0.99199,     0.99299,     0.99399,     0.99499,       0.996,       0.997,       0.998,       0.999,           1]), array([[          1,           1,           1,           1,           1,           1,           1,           1,           1,           1,           1,           1,           1,           1,           1,           1,           1,           1,           1,           1,           1,           1,           1,\n",
              "                  1,           1,           1,           1,           1,           1,           1,           1,           1,           1,           1,           1,           1,           1,           1,           1,           1,           1,           1,           1,           1,           1,           1,\n",
              "                  1,           1,           1,           1,           1,           1,           1,           1,           1,           1,           1,           1,           1,           1,           1,           1,           1,           1,           1,           1,           1,           1,           1,\n",
              "                  1,           1,           1,           1,           1,           1,           1,           1,           1,           1,           1,           1,           1,           1,           1,           1,           1,           1,           1,           1,           1,           1,           1,\n",
              "                  1,           1,           1,           1,           1,           1,           1,           1,           1,           1,           1,           1,           1,           1,           1,           1,           1,           1,           1,           1,           1,           1,           1,\n",
              "                  1,           1,           1,           1,           1,           1,           1,           1,           1,           1,           1,           1,           1,           1,           1,           1,           1,           1,           1,           1,           1,           1,           1,\n",
              "                  1,           1,           1,           1,           1,           1,           1,           1,           1,           1,           1,           1,           1,           1,           1,           1,           1,           1,           1,           1,           1,           1,           1,\n",
              "                  1,           1,           1,           1,           1,           1,           1,           1,           1,           1,           1,           1,           1,           1,           1,           1,           1,           1,           1,           1,           1,           1,           1,\n",
              "                  1,           1,           1,           1,           1,           1,           1,           1,           1,           1,           1,           1,           1,           1,           1,           1,           1,           1,           1,           1,           1,           1,           1,\n",
              "                  1,           1,           1,           1,           1,           1,           1,           1,           1,           1,           1,           1,           1,           1,           1,           1,           1,           1,           1,           1,           1,           1,           1,\n",
              "                  1,           1,           1,           1,           1,           1,           1,           1,           1,           1,           1,           1,           1,           1,           1,           1,           1,           1,           1,           1,           1,           1,           1,\n",
              "                  1,           1,           1,           1,           1,           1,           1,           1,           1,           1,           1,           1,           1,           1,           1,           1,           1,           1,           1,           1,           1,           1,           1,\n",
              "                  1,           1,           1,           1,           1,           1,           1,           1,           1,           1,           1,           1,           1,           1,           1,           1,           1,           1,           1,           1,           1,           1,           1,\n",
              "                  1,           1,           1,           1,           1,           1,           1,           1,           1,           1,           1,           1,           1,           1,           1,           1,           1,           1,           1,           1,           1,           1,           1,\n",
              "                  1,           1,           1,           1,           1,           1,           1,           1,           1,           1,           1,           1,           1,           1,           1,           1,           1,           1,           1,           1,           1,           1,           1,\n",
              "                  1,           1,           1,           1,           1,           1,           1,           1,           1,           1,           1,           1,           1,           1,           1,           1,           1,           1,           1,           1,           1,           1,           1,\n",
              "                  1,           1,           1,           1,           1,           1,           1,           1,           1,           1,           1,           1,           1,           1,           1,           1,           1,           1,           1,           1,           1,           1,           1,\n",
              "                  1,           1,           1,           1,           1,           1,           1,           1,           1,           1,           1,           1,           1,           1,           1,           1,           1,           1,           1,           1,           1,           1,           1,\n",
              "                  1,           1,           1,           1,           1,           1,           1,           1,           1,           1,           1,           1,           1,           1,           1,           1,           1,           1,           1,           1,           1,           1,           1,\n",
              "                  1,           1,           1,           1,           1,           1,           1,           1,           1,           1,           1,           1,           1,           1,           1,           1,           1,           1,           1,           1,           1,           1,           1,\n",
              "                  1,           1,           1,           1,           1,           1,           1,           1,           1,           1,           1,           1,           1,           1,           1,           1,           1,           1,           1,           1,           1,           1,           1,\n",
              "                  1,           1,           1,           1,           1,           1,           1,           1,           1,           1,           1,           1,           1,           1,           1,           1,           1,           1,           1,           1,           1,           1,           1,\n",
              "                  1,           1,           1,           1,           1,           1,           1,           1,           1,           1,           1,           1,           1,           1,           1,           1,           1,           1,           1,           1,           1,           1,           1,\n",
              "                  1,           1,           1,           1,           1,           1,           1,           1,           1,           1,           1,           1,           1,           1,           1,           1,           1,           1,           1,           1,           1,           1,           1,\n",
              "                  1,           1,           1,           1,           1,           1,           1,           1,           1,           1,           1,           1,           1,           1,           1,           1,           1,           1,           1,           1,           1,           1,           1,\n",
              "                  1,           1,           1,           1,           1,           1,           1,           1,           1,           1,           1,           1,           1,           1,           1,           1,           1,           1,           1,           1,           1,           1,           1,\n",
              "                  1,           1,           1,           1,           1,           1,           1,           1,           1,           1,           1,           1,           1,           1,           1,           1,           1,           1,           1,           1,           1,           1,           1,\n",
              "                  1,           1,           1,           1,           1,           1,           1,           1,           1,           1,           1,           1,           1,           1,           1,           1,           1,           1,           1,           1,           1,           1,           1,\n",
              "                  1,           1,           1,           1,           1,           1,           1,           1,           1,           1,           1,           1,           1,           1,           1,           1,           1,           1,           1,           1,           1,           1,        0.95,\n",
              "               0.95,        0.95,        0.95,        0.95,        0.95,        0.95,        0.95,        0.95,        0.95,        0.95,        0.95,        0.95,        0.95,        0.95,        0.95,        0.95,        0.95,        0.95,        0.95,        0.95,        0.95,        0.95,        0.95,\n",
              "               0.95,        0.95,        0.95,        0.95,        0.95,        0.95,        0.95,        0.95,        0.95,        0.95,        0.95,        0.95,        0.95,        0.95,        0.95,        0.95,        0.95,        0.95,        0.95,        0.95,        0.95,        0.95,        0.95,\n",
              "               0.95,        0.95,        0.95,        0.95,        0.95,        0.95,        0.95,        0.95,        0.95,        0.95,        0.95,        0.95,        0.95,        0.95,        0.95,        0.95,        0.95,        0.95,        0.95,        0.95,        0.95,        0.95,        0.95,\n",
              "               0.95,        0.95,        0.95,        0.95,        0.95,        0.95,        0.95,        0.95,        0.95,        0.95,        0.95,        0.95,        0.95,        0.95,        0.95,        0.95,        0.95,        0.95,        0.95,        0.95,        0.95,        0.95,        0.95,\n",
              "               0.95,        0.95,        0.95,        0.95,        0.95,        0.95,        0.95,        0.95,        0.95,        0.95,        0.95,        0.95,        0.95,        0.95,        0.95,        0.95,        0.95,        0.95,        0.95,        0.95,        0.95,        0.95,        0.95,\n",
              "               0.95,        0.95,        0.95,        0.95,        0.95,        0.95,        0.95,        0.95,        0.95,     0.91667,     0.91667,     0.91667,     0.91667,     0.91667,     0.91667,     0.91667,     0.91667,     0.91667,     0.91667,     0.91667,     0.91667,     0.91667,     0.91667,\n",
              "            0.91667,     0.91667,     0.91667,     0.91667,     0.91667,     0.91667,     0.91667,     0.91667,     0.91667,     0.91667,     0.91667,     0.91667,     0.91667,     0.91667,     0.91667,     0.91667,     0.91667,     0.91667,     0.91667,     0.91667,     0.91667,     0.91667,     0.91667,\n",
              "            0.91667,     0.91667,     0.91667,     0.91667,     0.91667,     0.91667,     0.91667,     0.91667,     0.91667,     0.91667,     0.91667,     0.91667,     0.91667,     0.91667,     0.91667,     0.91667,     0.91667,     0.91667,     0.91667,     0.91667,     0.91667,     0.91667,     0.91667,\n",
              "            0.91667,     0.91667,     0.91667,     0.91667,     0.91667,     0.91667,     0.91667,     0.91667,     0.91667,     0.91667,     0.91667,     0.91667,     0.91667,     0.91667,     0.91667,     0.91667,     0.91667,     0.91667,     0.91667,     0.91667,     0.91667,     0.91667,     0.91667,\n",
              "            0.91667,     0.91667,     0.91667,     0.91667,     0.91667,     0.91667,     0.91667,     0.91667,     0.91667,     0.91667,     0.91667,     0.91667,     0.91667,     0.91667,     0.91667,     0.91667,     0.91667,     0.91667,     0.91667,     0.91667,     0.91667,     0.91667,     0.91667,\n",
              "            0.91667,     0.91667,     0.91667,     0.91667,     0.91667,     0.91667,     0.91667,     0.91667,     0.91667,     0.91667,     0.91667,     0.91667,     0.91667,     0.91667,     0.91667,     0.91667,     0.91667,     0.91667,     0.91667,     0.56098,     0.56098,     0.56098,     0.56098,\n",
              "            0.56098,     0.56098,     0.56098,     0.56098,     0.56098,     0.56098,     0.56098,     0.56098,     0.56098,     0.56098,     0.56098,     0.56098,     0.56098,     0.56098,     0.56098,     0.56098,     0.56098,     0.56098,     0.56098,     0.56098,     0.56098,     0.56098,     0.56098,\n",
              "            0.56098,     0.56098,     0.56098,     0.56098,     0.56098,     0.56098,     0.56098,     0.56098,     0.56098,     0.56098,     0.56098,     0.56098,     0.56098,     0.56098,     0.56098,   0.0039088,   0.0039088,   0.0039088,   0.0039088,   0.0039088,   0.0039088,   0.0039088,   0.0039088,\n",
              "          0.0039088,   0.0039088,   0.0039088,   0.0039088,   0.0039088,   0.0039088,   0.0039088,   0.0039088,   0.0039088,   0.0039088,   0.0039088,   0.0039088,   0.0039088,   0.0039088,   0.0039088,   0.0039088,   0.0039088,   0.0039088,   0.0039088,   0.0039088,   0.0039088,   0.0039088,   0.0039088,\n",
              "          0.0039088,   0.0039088,   0.0039088,   0.0039088,   0.0039088,   0.0039088,   0.0039088,   0.0039088,   0.0039088,   0.0039088,           0]]), 'Recall', 'Precision'], [array([          0,    0.001001,    0.002002,    0.003003,    0.004004,    0.005005,    0.006006,    0.007007,    0.008008,    0.009009,     0.01001,    0.011011,    0.012012,    0.013013,    0.014014,    0.015015,    0.016016,    0.017017,    0.018018,    0.019019,     0.02002,    0.021021,    0.022022,    0.023023,\n",
              "          0.024024,    0.025025,    0.026026,    0.027027,    0.028028,    0.029029,     0.03003,    0.031031,    0.032032,    0.033033,    0.034034,    0.035035,    0.036036,    0.037037,    0.038038,    0.039039,     0.04004,    0.041041,    0.042042,    0.043043,    0.044044,    0.045045,    0.046046,    0.047047,\n",
              "          0.048048,    0.049049,     0.05005,    0.051051,    0.052052,    0.053053,    0.054054,    0.055055,    0.056056,    0.057057,    0.058058,    0.059059,     0.06006,    0.061061,    0.062062,    0.063063,    0.064064,    0.065065,    0.066066,    0.067067,    0.068068,    0.069069,     0.07007,    0.071071,\n",
              "          0.072072,    0.073073,    0.074074,    0.075075,    0.076076,    0.077077,    0.078078,    0.079079,     0.08008,    0.081081,    0.082082,    0.083083,    0.084084,    0.085085,    0.086086,    0.087087,    0.088088,    0.089089,     0.09009,    0.091091,    0.092092,    0.093093,    0.094094,    0.095095,\n",
              "          0.096096,    0.097097,    0.098098,    0.099099,      0.1001,      0.1011,      0.1021,      0.1031,      0.1041,     0.10511,     0.10611,     0.10711,     0.10811,     0.10911,     0.11011,     0.11111,     0.11211,     0.11311,     0.11411,     0.11512,     0.11612,     0.11712,     0.11812,     0.11912,\n",
              "           0.12012,     0.12112,     0.12212,     0.12312,     0.12412,     0.12513,     0.12613,     0.12713,     0.12813,     0.12913,     0.13013,     0.13113,     0.13213,     0.13313,     0.13413,     0.13514,     0.13614,     0.13714,     0.13814,     0.13914,     0.14014,     0.14114,     0.14214,     0.14314,\n",
              "           0.14414,     0.14515,     0.14615,     0.14715,     0.14815,     0.14915,     0.15015,     0.15115,     0.15215,     0.15315,     0.15415,     0.15516,     0.15616,     0.15716,     0.15816,     0.15916,     0.16016,     0.16116,     0.16216,     0.16316,     0.16416,     0.16517,     0.16617,     0.16717,\n",
              "           0.16817,     0.16917,     0.17017,     0.17117,     0.17217,     0.17317,     0.17417,     0.17518,     0.17618,     0.17718,     0.17818,     0.17918,     0.18018,     0.18118,     0.18218,     0.18318,     0.18418,     0.18519,     0.18619,     0.18719,     0.18819,     0.18919,     0.19019,     0.19119,\n",
              "           0.19219,     0.19319,     0.19419,      0.1952,      0.1962,      0.1972,      0.1982,      0.1992,      0.2002,      0.2012,      0.2022,      0.2032,      0.2042,     0.20521,     0.20621,     0.20721,     0.20821,     0.20921,     0.21021,     0.21121,     0.21221,     0.21321,     0.21421,     0.21522,\n",
              "           0.21622,     0.21722,     0.21822,     0.21922,     0.22022,     0.22122,     0.22222,     0.22322,     0.22422,     0.22523,     0.22623,     0.22723,     0.22823,     0.22923,     0.23023,     0.23123,     0.23223,     0.23323,     0.23423,     0.23524,     0.23624,     0.23724,     0.23824,     0.23924,\n",
              "           0.24024,     0.24124,     0.24224,     0.24324,     0.24424,     0.24525,     0.24625,     0.24725,     0.24825,     0.24925,     0.25025,     0.25125,     0.25225,     0.25325,     0.25425,     0.25526,     0.25626,     0.25726,     0.25826,     0.25926,     0.26026,     0.26126,     0.26226,     0.26326,\n",
              "           0.26426,     0.26527,     0.26627,     0.26727,     0.26827,     0.26927,     0.27027,     0.27127,     0.27227,     0.27327,     0.27427,     0.27528,     0.27628,     0.27728,     0.27828,     0.27928,     0.28028,     0.28128,     0.28228,     0.28328,     0.28428,     0.28529,     0.28629,     0.28729,\n",
              "           0.28829,     0.28929,     0.29029,     0.29129,     0.29229,     0.29329,     0.29429,      0.2953,      0.2963,      0.2973,      0.2983,      0.2993,      0.3003,      0.3013,      0.3023,      0.3033,      0.3043,     0.30531,     0.30631,     0.30731,     0.30831,     0.30931,     0.31031,     0.31131,\n",
              "           0.31231,     0.31331,     0.31431,     0.31532,     0.31632,     0.31732,     0.31832,     0.31932,     0.32032,     0.32132,     0.32232,     0.32332,     0.32432,     0.32533,     0.32633,     0.32733,     0.32833,     0.32933,     0.33033,     0.33133,     0.33233,     0.33333,     0.33433,     0.33534,\n",
              "           0.33634,     0.33734,     0.33834,     0.33934,     0.34034,     0.34134,     0.34234,     0.34334,     0.34434,     0.34535,     0.34635,     0.34735,     0.34835,     0.34935,     0.35035,     0.35135,     0.35235,     0.35335,     0.35435,     0.35536,     0.35636,     0.35736,     0.35836,     0.35936,\n",
              "           0.36036,     0.36136,     0.36236,     0.36336,     0.36436,     0.36537,     0.36637,     0.36737,     0.36837,     0.36937,     0.37037,     0.37137,     0.37237,     0.37337,     0.37437,     0.37538,     0.37638,     0.37738,     0.37838,     0.37938,     0.38038,     0.38138,     0.38238,     0.38338,\n",
              "           0.38438,     0.38539,     0.38639,     0.38739,     0.38839,     0.38939,     0.39039,     0.39139,     0.39239,     0.39339,     0.39439,      0.3954,      0.3964,      0.3974,      0.3984,      0.3994,      0.4004,      0.4014,      0.4024,      0.4034,      0.4044,     0.40541,     0.40641,     0.40741,\n",
              "           0.40841,     0.40941,     0.41041,     0.41141,     0.41241,     0.41341,     0.41441,     0.41542,     0.41642,     0.41742,     0.41842,     0.41942,     0.42042,     0.42142,     0.42242,     0.42342,     0.42442,     0.42543,     0.42643,     0.42743,     0.42843,     0.42943,     0.43043,     0.43143,\n",
              "           0.43243,     0.43343,     0.43443,     0.43544,     0.43644,     0.43744,     0.43844,     0.43944,     0.44044,     0.44144,     0.44244,     0.44344,     0.44444,     0.44545,     0.44645,     0.44745,     0.44845,     0.44945,     0.45045,     0.45145,     0.45245,     0.45345,     0.45445,     0.45546,\n",
              "           0.45646,     0.45746,     0.45846,     0.45946,     0.46046,     0.46146,     0.46246,     0.46346,     0.46446,     0.46547,     0.46647,     0.46747,     0.46847,     0.46947,     0.47047,     0.47147,     0.47247,     0.47347,     0.47447,     0.47548,     0.47648,     0.47748,     0.47848,     0.47948,\n",
              "           0.48048,     0.48148,     0.48248,     0.48348,     0.48448,     0.48549,     0.48649,     0.48749,     0.48849,     0.48949,     0.49049,     0.49149,     0.49249,     0.49349,     0.49449,      0.4955,      0.4965,      0.4975,      0.4985,      0.4995,      0.5005,      0.5015,      0.5025,      0.5035,\n",
              "            0.5045,     0.50551,     0.50651,     0.50751,     0.50851,     0.50951,     0.51051,     0.51151,     0.51251,     0.51351,     0.51451,     0.51552,     0.51652,     0.51752,     0.51852,     0.51952,     0.52052,     0.52152,     0.52252,     0.52352,     0.52452,     0.52553,     0.52653,     0.52753,\n",
              "           0.52853,     0.52953,     0.53053,     0.53153,     0.53253,     0.53353,     0.53453,     0.53554,     0.53654,     0.53754,     0.53854,     0.53954,     0.54054,     0.54154,     0.54254,     0.54354,     0.54454,     0.54555,     0.54655,     0.54755,     0.54855,     0.54955,     0.55055,     0.55155,\n",
              "           0.55255,     0.55355,     0.55455,     0.55556,     0.55656,     0.55756,     0.55856,     0.55956,     0.56056,     0.56156,     0.56256,     0.56356,     0.56456,     0.56557,     0.56657,     0.56757,     0.56857,     0.56957,     0.57057,     0.57157,     0.57257,     0.57357,     0.57457,     0.57558,\n",
              "           0.57658,     0.57758,     0.57858,     0.57958,     0.58058,     0.58158,     0.58258,     0.58358,     0.58458,     0.58559,     0.58659,     0.58759,     0.58859,     0.58959,     0.59059,     0.59159,     0.59259,     0.59359,     0.59459,      0.5956,      0.5966,      0.5976,      0.5986,      0.5996,\n",
              "            0.6006,      0.6016,      0.6026,      0.6036,      0.6046,     0.60561,     0.60661,     0.60761,     0.60861,     0.60961,     0.61061,     0.61161,     0.61261,     0.61361,     0.61461,     0.61562,     0.61662,     0.61762,     0.61862,     0.61962,     0.62062,     0.62162,     0.62262,     0.62362,\n",
              "           0.62462,     0.62563,     0.62663,     0.62763,     0.62863,     0.62963,     0.63063,     0.63163,     0.63263,     0.63363,     0.63463,     0.63564,     0.63664,     0.63764,     0.63864,     0.63964,     0.64064,     0.64164,     0.64264,     0.64364,     0.64464,     0.64565,     0.64665,     0.64765,\n",
              "           0.64865,     0.64965,     0.65065,     0.65165,     0.65265,     0.65365,     0.65465,     0.65566,     0.65666,     0.65766,     0.65866,     0.65966,     0.66066,     0.66166,     0.66266,     0.66366,     0.66466,     0.66567,     0.66667,     0.66767,     0.66867,     0.66967,     0.67067,     0.67167,\n",
              "           0.67267,     0.67367,     0.67467,     0.67568,     0.67668,     0.67768,     0.67868,     0.67968,     0.68068,     0.68168,     0.68268,     0.68368,     0.68468,     0.68569,     0.68669,     0.68769,     0.68869,     0.68969,     0.69069,     0.69169,     0.69269,     0.69369,     0.69469,      0.6957,\n",
              "            0.6967,      0.6977,      0.6987,      0.6997,      0.7007,      0.7017,      0.7027,      0.7037,      0.7047,     0.70571,     0.70671,     0.70771,     0.70871,     0.70971,     0.71071,     0.71171,     0.71271,     0.71371,     0.71471,     0.71572,     0.71672,     0.71772,     0.71872,     0.71972,\n",
              "           0.72072,     0.72172,     0.72272,     0.72372,     0.72472,     0.72573,     0.72673,     0.72773,     0.72873,     0.72973,     0.73073,     0.73173,     0.73273,     0.73373,     0.73473,     0.73574,     0.73674,     0.73774,     0.73874,     0.73974,     0.74074,     0.74174,     0.74274,     0.74374,\n",
              "           0.74474,     0.74575,     0.74675,     0.74775,     0.74875,     0.74975,     0.75075,     0.75175,     0.75275,     0.75375,     0.75475,     0.75576,     0.75676,     0.75776,     0.75876,     0.75976,     0.76076,     0.76176,     0.76276,     0.76376,     0.76476,     0.76577,     0.76677,     0.76777,\n",
              "           0.76877,     0.76977,     0.77077,     0.77177,     0.77277,     0.77377,     0.77477,     0.77578,     0.77678,     0.77778,     0.77878,     0.77978,     0.78078,     0.78178,     0.78278,     0.78378,     0.78478,     0.78579,     0.78679,     0.78779,     0.78879,     0.78979,     0.79079,     0.79179,\n",
              "           0.79279,     0.79379,     0.79479,      0.7958,      0.7968,      0.7978,      0.7988,      0.7998,      0.8008,      0.8018,      0.8028,      0.8038,      0.8048,     0.80581,     0.80681,     0.80781,     0.80881,     0.80981,     0.81081,     0.81181,     0.81281,     0.81381,     0.81481,     0.81582,\n",
              "           0.81682,     0.81782,     0.81882,     0.81982,     0.82082,     0.82182,     0.82282,     0.82382,     0.82482,     0.82583,     0.82683,     0.82783,     0.82883,     0.82983,     0.83083,     0.83183,     0.83283,     0.83383,     0.83483,     0.83584,     0.83684,     0.83784,     0.83884,     0.83984,\n",
              "           0.84084,     0.84184,     0.84284,     0.84384,     0.84484,     0.84585,     0.84685,     0.84785,     0.84885,     0.84985,     0.85085,     0.85185,     0.85285,     0.85385,     0.85485,     0.85586,     0.85686,     0.85786,     0.85886,     0.85986,     0.86086,     0.86186,     0.86286,     0.86386,\n",
              "           0.86486,     0.86587,     0.86687,     0.86787,     0.86887,     0.86987,     0.87087,     0.87187,     0.87287,     0.87387,     0.87487,     0.87588,     0.87688,     0.87788,     0.87888,     0.87988,     0.88088,     0.88188,     0.88288,     0.88388,     0.88488,     0.88589,     0.88689,     0.88789,\n",
              "           0.88889,     0.88989,     0.89089,     0.89189,     0.89289,     0.89389,     0.89489,      0.8959,      0.8969,      0.8979,      0.8989,      0.8999,      0.9009,      0.9019,      0.9029,      0.9039,      0.9049,     0.90591,     0.90691,     0.90791,     0.90891,     0.90991,     0.91091,     0.91191,\n",
              "           0.91291,     0.91391,     0.91491,     0.91592,     0.91692,     0.91792,     0.91892,     0.91992,     0.92092,     0.92192,     0.92292,     0.92392,     0.92492,     0.92593,     0.92693,     0.92793,     0.92893,     0.92993,     0.93093,     0.93193,     0.93293,     0.93393,     0.93493,     0.93594,\n",
              "           0.93694,     0.93794,     0.93894,     0.93994,     0.94094,     0.94194,     0.94294,     0.94394,     0.94494,     0.94595,     0.94695,     0.94795,     0.94895,     0.94995,     0.95095,     0.95195,     0.95295,     0.95395,     0.95495,     0.95596,     0.95696,     0.95796,     0.95896,     0.95996,\n",
              "           0.96096,     0.96196,     0.96296,     0.96396,     0.96496,     0.96597,     0.96697,     0.96797,     0.96897,     0.96997,     0.97097,     0.97197,     0.97297,     0.97397,     0.97497,     0.97598,     0.97698,     0.97798,     0.97898,     0.97998,     0.98098,     0.98198,     0.98298,     0.98398,\n",
              "           0.98498,     0.98599,     0.98699,     0.98799,     0.98899,     0.98999,     0.99099,     0.99199,     0.99299,     0.99399,     0.99499,       0.996,       0.997,       0.998,       0.999,           1]), array([[  0.0066445,   0.0066445,   0.0068029,   0.0077052,   0.0074975,   0.0076663,    0.020012,     0.20509,     0.35553,     0.38106,     0.39492,     0.42214,     0.43477,     0.46998,     0.48523,     0.49224,     0.49879,     0.51856,     0.53401,     0.56113,     0.56449,     0.56784,      0.5772,\n",
              "            0.58142,     0.59071,     0.61607,     0.63037,      0.6348,     0.63937,     0.64617,     0.67225,     0.68494,     0.68908,     0.69194,     0.69479,     0.70756,     0.69894,     0.69028,     0.69869,     0.70933,      0.7229,     0.72453,     0.72616,     0.72778,      0.7294,     0.73102,\n",
              "            0.73263,     0.73677,     0.74283,     0.75292,     0.76046,     0.76357,     0.76667,     0.76975,     0.78633,     0.78848,     0.79062,     0.79275,     0.79487,     0.79699,     0.79909,     0.80278,     0.80765,     0.81247,     0.81627,     0.81912,     0.82195,     0.82476,     0.82756,\n",
              "            0.83034,     0.83308,      0.8358,     0.83851,     0.84121,     0.84389,     0.86319,     0.86613,     0.86906,     0.87197,     0.87486,     0.87773,     0.88025,     0.88149,     0.88272,     0.88395,     0.88518,     0.88641,     0.88763,     0.88884,     0.89006,     0.89127,     0.89248,\n",
              "            0.89368,     0.89488,     0.89608,     0.89728,     0.89803,     0.89818,     0.89834,      0.8985,     0.89866,     0.89881,     0.89897,     0.89913,     0.89928,     0.89944,      0.8996,     0.89975,     0.89991,     0.90007,     0.90022,     0.90038,     0.90054,     0.90069,     0.90085,\n",
              "            0.90101,     0.90116,     0.90132,     0.90147,     0.90163,     0.90179,     0.90194,      0.9021,     0.90225,     0.90241,     0.90257,     0.90272,     0.90288,     0.90303,     0.90319,     0.90334,      0.9035,     0.90365,     0.90381,     0.90397,     0.90412,     0.90428,     0.90443,\n",
              "            0.90459,     0.90474,      0.9049,     0.90505,     0.90521,     0.90536,     0.90552,     0.90567,     0.90582,     0.90598,     0.90613,     0.90629,     0.90644,      0.9066,     0.90675,     0.90691,     0.90706,     0.90721,     0.90737,     0.90752,     0.90768,     0.90783,     0.90798,\n",
              "            0.90814,     0.90829,     0.90845,      0.9086,     0.90875,     0.90891,     0.90906,     0.90921,     0.90937,     0.90952,     0.90968,     0.90983,     0.90998,     0.91014,     0.91029,     0.91044,     0.91059,     0.91075,      0.9109,     0.91105,     0.91121,     0.91136,     0.91151,\n",
              "            0.91166,     0.91182,     0.91197,     0.91212,     0.91228,     0.91243,     0.91258,     0.91273,     0.91288,     0.91304,     0.91319,     0.91334,     0.91349,     0.91365,      0.9138,     0.91395,      0.9141,     0.91425,     0.91441,     0.91456,     0.91471,     0.91486,     0.91501,\n",
              "            0.91516,     0.91532,     0.91547,     0.91562,     0.91577,     0.91592,     0.91607,     0.91622,     0.91637,     0.91653,     0.91639,     0.91238,     0.90835,     0.90429,     0.90021,      0.8961,     0.86924,     0.86843,     0.86762,      0.8668,     0.86599,     0.86517,     0.86436,\n",
              "            0.86354,     0.86272,      0.8619,     0.86108,     0.86026,     0.85944,     0.85861,     0.85779,     0.85696,     0.85614,     0.85531,     0.85448,     0.85365,     0.85282,     0.85199,     0.85115,     0.85032,     0.84949,     0.84865,     0.84781,     0.84698,     0.84614,      0.8453,\n",
              "            0.84446,     0.84476,     0.84509,     0.84541,     0.84574,     0.84606,     0.84638,     0.84671,     0.84703,     0.84735,     0.84767,       0.848,     0.84832,     0.84864,     0.84896,     0.84928,      0.8496,     0.84992,     0.85024,     0.85056,     0.85088,      0.8512,     0.85152,\n",
              "            0.85184,     0.85215,     0.85247,     0.85279,     0.85311,     0.85342,     0.85374,     0.85406,     0.85437,     0.85469,     0.85501,     0.85532,     0.85564,     0.85595,     0.85627,     0.85658,     0.85689,     0.85721,     0.85752,     0.85783,     0.85815,     0.85846,     0.85877,\n",
              "            0.85909,      0.8594,     0.85971,     0.86002,     0.86033,     0.86064,     0.86095,     0.86126,     0.86157,     0.86188,     0.86219,      0.8625,     0.86281,     0.86312,     0.86343,     0.86349,     0.86303,     0.86257,     0.86211,     0.86165,     0.86119,     0.86073,     0.86027,\n",
              "            0.85981,     0.85935,     0.85889,     0.85843,     0.85797,      0.8575,     0.85704,     0.85658,     0.85611,     0.85565,     0.85519,     0.85472,     0.85426,     0.85379,     0.85333,     0.85286,     0.85239,     0.85193,     0.85146,     0.85099,     0.85053,     0.85006,     0.84959,\n",
              "            0.84912,     0.84865,     0.84818,     0.84771,     0.84724,     0.84677,      0.8463,     0.84583,     0.84536,     0.84489,     0.84442,     0.84395,     0.84347,       0.843,     0.84253,     0.84205,     0.84158,      0.8411,     0.84063,     0.84015,     0.83968,      0.8392,     0.83873,\n",
              "            0.83825,     0.83777,     0.83729,     0.83707,     0.83689,     0.83672,     0.83655,     0.83637,      0.8362,     0.83603,     0.83585,     0.83568,     0.83551,     0.83533,     0.83516,     0.83499,     0.83481,     0.83464,     0.83447,     0.83429,     0.83412,     0.83394,     0.83377,\n",
              "             0.8336,     0.83342,     0.83325,     0.83308,      0.8329,     0.83273,     0.83255,     0.83238,      0.8322,     0.83203,     0.83186,     0.83168,     0.83151,     0.83133,     0.83116,     0.83098,     0.83081,     0.83063,     0.83046,     0.83028,     0.83011,     0.82993,     0.82976,\n",
              "            0.82958,     0.82941,     0.82923,     0.82906,     0.82888,     0.82871,     0.82853,     0.82836,     0.82818,     0.82801,     0.82783,     0.82766,     0.82748,      0.8273,     0.82713,     0.82695,     0.82678,      0.8266,     0.82642,     0.82625,     0.82607,      0.8259,     0.82572,\n",
              "            0.82554,     0.82537,     0.82519,     0.82502,     0.82484,     0.82466,     0.82449,     0.82431,     0.82413,     0.82396,     0.82378,      0.8236,     0.82343,     0.82325,     0.82307,      0.8229,     0.82272,     0.82254,     0.82237,     0.82219,     0.82201,     0.82184,     0.82166,\n",
              "            0.82148,      0.8213,     0.82113,     0.82095,     0.82077,     0.82059,     0.82042,     0.82024,     0.82006,     0.81988,     0.81971,     0.81953,     0.81935,     0.81917,     0.81899,     0.81882,     0.81864,     0.81846,     0.81828,      0.8181,     0.81793,     0.81775,     0.81757,\n",
              "            0.81739,     0.81721,     0.81703,     0.81686,     0.81668,      0.8165,     0.81632,     0.81614,     0.81596,     0.81578,      0.8156,     0.81543,     0.81525,     0.81507,     0.81489,     0.81471,     0.81453,     0.81435,     0.81417,     0.81399,     0.81381,     0.81363,     0.81345,\n",
              "            0.81328,      0.8131,     0.81292,     0.81274,     0.81256,     0.81238,      0.8122,     0.81202,     0.81184,     0.81166,     0.81148,      0.8113,     0.81112,     0.81094,     0.81076,     0.81058,      0.8104,     0.81022,     0.81004,     0.80986,     0.80968,     0.80947,     0.80912,\n",
              "            0.80876,     0.80841,     0.80806,      0.8077,     0.80735,       0.807,     0.80664,     0.80629,     0.80594,     0.80558,     0.80523,     0.80487,     0.80452,     0.80417,     0.80381,     0.80345,      0.8031,     0.80274,     0.80239,     0.80203,     0.80168,     0.80132,     0.80096,\n",
              "            0.80061,     0.80025,     0.79989,     0.79954,     0.79918,     0.79882,     0.79846,      0.7981,     0.79775,     0.79739,     0.79703,     0.79667,     0.79631,     0.79595,     0.79559,     0.79523,     0.79487,     0.79451,     0.79415,     0.79379,     0.79343,     0.79307,     0.79271,\n",
              "            0.79235,     0.79199,     0.79163,     0.79126,      0.7909,     0.79054,     0.79018,     0.78982,     0.78945,     0.78909,     0.78873,     0.78836,       0.788,     0.78764,     0.78727,     0.78691,     0.78654,     0.78618,     0.78582,     0.78545,     0.78509,     0.78472,     0.78435,\n",
              "            0.78399,     0.78362,     0.78326,     0.78289,     0.78252,     0.78216,     0.78179,     0.78142,     0.78106,     0.78069,     0.78063,     0.78094,     0.78125,     0.78155,     0.78186,     0.78217,     0.78248,     0.78278,     0.78309,      0.7834,      0.7837,     0.78401,     0.78431,\n",
              "            0.78462,     0.78492,     0.78523,     0.78553,     0.78584,     0.78614,     0.78644,     0.78674,     0.78705,     0.78735,     0.78765,     0.78795,     0.78825,     0.78855,     0.78885,     0.78915,     0.78945,     0.78975,     0.79005,     0.79035,     0.79065,     0.79095,     0.79124,\n",
              "            0.79154,     0.79184,     0.79213,     0.79243,     0.79273,     0.79302,     0.79332,     0.79361,     0.79391,      0.7942,      0.7945,     0.79479,     0.79508,     0.79538,     0.79567,     0.79596,     0.79625,     0.79655,     0.79684,     0.79713,     0.79742,     0.79771,       0.798,\n",
              "            0.79829,     0.79858,     0.79887,     0.79916,     0.79945,     0.79974,      0.7999,     0.79862,     0.79735,     0.79607,     0.79479,     0.79351,     0.79222,     0.79093,     0.78964,     0.78834,     0.78705,     0.78575,     0.78444,     0.78314,     0.78183,     0.78052,      0.7792,\n",
              "            0.77789,     0.77657,     0.77524,     0.77392,     0.77259,     0.77126,     0.76992,     0.76865,     0.76743,     0.76621,     0.76499,     0.76377,     0.76254,     0.76131,     0.76008,     0.75885,     0.75761,     0.75637,     0.75513,     0.75389,     0.75264,     0.75139,     0.75014,\n",
              "            0.74889,     0.74763,     0.74638,     0.74512,     0.74385,     0.74259,     0.74132,     0.74005,     0.73877,      0.7375,      0.7357,     0.73335,     0.73099,     0.72862,     0.72624,     0.72385,     0.72145,     0.71905,     0.71663,     0.71421,     0.71178,     0.70933,     0.70688,\n",
              "            0.70442,     0.70051,     0.69321,     0.68583,     0.67837,     0.67082,     0.66587,     0.66411,     0.66234,     0.66057,      0.6588,     0.65702,     0.65524,     0.65345,     0.65166,     0.64986,     0.64805,     0.64625,     0.64443,     0.64262,      0.6408,     0.63897,     0.63714,\n",
              "             0.6353,     0.63346,     0.63161,     0.62976,     0.62738,     0.62408,     0.62076,     0.61742,     0.61406,     0.61069,     0.60731,      0.6039,     0.60048,     0.59705,     0.59359,     0.59012,     0.58667,     0.58326,     0.57982,     0.57637,      0.5729,     0.56942,     0.56591,\n",
              "             0.5624,     0.55886,      0.5553,     0.55173,     0.54814,     0.54481,     0.54224,     0.53967,     0.53709,     0.53451,     0.53191,      0.5293,     0.52669,     0.52406,     0.52143,     0.51878,     0.51613,     0.51346,     0.51079,     0.50811,     0.50542,     0.50272,         0.5,\n",
              "            0.49501,     0.48998,     0.48491,     0.47981,     0.47468,     0.46951,      0.4643,     0.45906,     0.45379,     0.44917,     0.44502,     0.44084,     0.43664,     0.43242,     0.42817,     0.42391,     0.41961,      0.4153,     0.41096,      0.4066,     0.40221,     0.39873,     0.39617,\n",
              "             0.3936,     0.39103,     0.38844,     0.38585,     0.38325,     0.38064,     0.37803,      0.3754,     0.37277,     0.37012,     0.36747,     0.36481,     0.36214,     0.35947,     0.35678,     0.35409,     0.35138,     0.34867,     0.34595,     0.34435,     0.34353,     0.34271,     0.34189,\n",
              "            0.34107,     0.34025,     0.33943,     0.33861,     0.33778,     0.33696,     0.33613,     0.33531,     0.33448,     0.33365,     0.33283,       0.332,     0.33117,     0.33034,      0.3295,     0.32867,     0.32784,       0.327,     0.32617,     0.32533,      0.3245,     0.32366,     0.32282,\n",
              "            0.32198,     0.32114,      0.3203,     0.31946,     0.31862,     0.31778,     0.31693,     0.31609,     0.31524,     0.31439,     0.31355,      0.3127,     0.31185,       0.311,     0.31015,      0.3093,     0.30844,     0.30759,     0.30674,     0.30588,     0.30502,     0.30417,     0.30331,\n",
              "            0.30245,     0.30159,     0.30073,     0.29987,     0.29901,     0.29814,     0.29728,     0.29642,     0.29555,     0.29468,     0.29382,     0.29295,     0.29208,     0.29121,     0.29034,     0.28947,     0.28859,     0.28772,     0.28684,     0.28597,     0.26904,     0.24496,     0.22194,\n",
              "            0.21842,     0.21489,     0.21134,     0.20778,     0.20421,     0.20062,     0.19702,      0.1934,     0.18977,     0.18612,     0.18246,     0.17878,     0.17509,     0.17139,     0.16767,     0.16393,     0.16018,     0.15641,     0.15311,     0.15083,     0.14854,     0.14624,     0.14394,\n",
              "            0.14164,     0.13932,     0.13701,     0.13468,     0.13235,     0.13002,     0.12768,     0.12533,     0.12298,     0.12062,     0.11825,     0.11588,      0.1135,     0.11112,     0.10873,     0.10634,     0.10394,     0.10153,    0.099116,    0.096697,    0.094271,    0.091839,    0.089401,\n",
              "           0.086957,    0.084507,     0.08205,           0,           0,           0,           0,           0,           0,           0,           0,           0,           0,           0,           0,           0,           0,           0,           0,           0,           0,           0,           0,\n",
              "                  0,           0,           0,           0,           0,           0,           0,           0,           0,           0,           0]]), 'Confidence', 'F1'], [array([          0,    0.001001,    0.002002,    0.003003,    0.004004,    0.005005,    0.006006,    0.007007,    0.008008,    0.009009,     0.01001,    0.011011,    0.012012,    0.013013,    0.014014,    0.015015,    0.016016,    0.017017,    0.018018,    0.019019,     0.02002,    0.021021,    0.022022,    0.023023,\n",
              "          0.024024,    0.025025,    0.026026,    0.027027,    0.028028,    0.029029,     0.03003,    0.031031,    0.032032,    0.033033,    0.034034,    0.035035,    0.036036,    0.037037,    0.038038,    0.039039,     0.04004,    0.041041,    0.042042,    0.043043,    0.044044,    0.045045,    0.046046,    0.047047,\n",
              "          0.048048,    0.049049,     0.05005,    0.051051,    0.052052,    0.053053,    0.054054,    0.055055,    0.056056,    0.057057,    0.058058,    0.059059,     0.06006,    0.061061,    0.062062,    0.063063,    0.064064,    0.065065,    0.066066,    0.067067,    0.068068,    0.069069,     0.07007,    0.071071,\n",
              "          0.072072,    0.073073,    0.074074,    0.075075,    0.076076,    0.077077,    0.078078,    0.079079,     0.08008,    0.081081,    0.082082,    0.083083,    0.084084,    0.085085,    0.086086,    0.087087,    0.088088,    0.089089,     0.09009,    0.091091,    0.092092,    0.093093,    0.094094,    0.095095,\n",
              "          0.096096,    0.097097,    0.098098,    0.099099,      0.1001,      0.1011,      0.1021,      0.1031,      0.1041,     0.10511,     0.10611,     0.10711,     0.10811,     0.10911,     0.11011,     0.11111,     0.11211,     0.11311,     0.11411,     0.11512,     0.11612,     0.11712,     0.11812,     0.11912,\n",
              "           0.12012,     0.12112,     0.12212,     0.12312,     0.12412,     0.12513,     0.12613,     0.12713,     0.12813,     0.12913,     0.13013,     0.13113,     0.13213,     0.13313,     0.13413,     0.13514,     0.13614,     0.13714,     0.13814,     0.13914,     0.14014,     0.14114,     0.14214,     0.14314,\n",
              "           0.14414,     0.14515,     0.14615,     0.14715,     0.14815,     0.14915,     0.15015,     0.15115,     0.15215,     0.15315,     0.15415,     0.15516,     0.15616,     0.15716,     0.15816,     0.15916,     0.16016,     0.16116,     0.16216,     0.16316,     0.16416,     0.16517,     0.16617,     0.16717,\n",
              "           0.16817,     0.16917,     0.17017,     0.17117,     0.17217,     0.17317,     0.17417,     0.17518,     0.17618,     0.17718,     0.17818,     0.17918,     0.18018,     0.18118,     0.18218,     0.18318,     0.18418,     0.18519,     0.18619,     0.18719,     0.18819,     0.18919,     0.19019,     0.19119,\n",
              "           0.19219,     0.19319,     0.19419,      0.1952,      0.1962,      0.1972,      0.1982,      0.1992,      0.2002,      0.2012,      0.2022,      0.2032,      0.2042,     0.20521,     0.20621,     0.20721,     0.20821,     0.20921,     0.21021,     0.21121,     0.21221,     0.21321,     0.21421,     0.21522,\n",
              "           0.21622,     0.21722,     0.21822,     0.21922,     0.22022,     0.22122,     0.22222,     0.22322,     0.22422,     0.22523,     0.22623,     0.22723,     0.22823,     0.22923,     0.23023,     0.23123,     0.23223,     0.23323,     0.23423,     0.23524,     0.23624,     0.23724,     0.23824,     0.23924,\n",
              "           0.24024,     0.24124,     0.24224,     0.24324,     0.24424,     0.24525,     0.24625,     0.24725,     0.24825,     0.24925,     0.25025,     0.25125,     0.25225,     0.25325,     0.25425,     0.25526,     0.25626,     0.25726,     0.25826,     0.25926,     0.26026,     0.26126,     0.26226,     0.26326,\n",
              "           0.26426,     0.26527,     0.26627,     0.26727,     0.26827,     0.26927,     0.27027,     0.27127,     0.27227,     0.27327,     0.27427,     0.27528,     0.27628,     0.27728,     0.27828,     0.27928,     0.28028,     0.28128,     0.28228,     0.28328,     0.28428,     0.28529,     0.28629,     0.28729,\n",
              "           0.28829,     0.28929,     0.29029,     0.29129,     0.29229,     0.29329,     0.29429,      0.2953,      0.2963,      0.2973,      0.2983,      0.2993,      0.3003,      0.3013,      0.3023,      0.3033,      0.3043,     0.30531,     0.30631,     0.30731,     0.30831,     0.30931,     0.31031,     0.31131,\n",
              "           0.31231,     0.31331,     0.31431,     0.31532,     0.31632,     0.31732,     0.31832,     0.31932,     0.32032,     0.32132,     0.32232,     0.32332,     0.32432,     0.32533,     0.32633,     0.32733,     0.32833,     0.32933,     0.33033,     0.33133,     0.33233,     0.33333,     0.33433,     0.33534,\n",
              "           0.33634,     0.33734,     0.33834,     0.33934,     0.34034,     0.34134,     0.34234,     0.34334,     0.34434,     0.34535,     0.34635,     0.34735,     0.34835,     0.34935,     0.35035,     0.35135,     0.35235,     0.35335,     0.35435,     0.35536,     0.35636,     0.35736,     0.35836,     0.35936,\n",
              "           0.36036,     0.36136,     0.36236,     0.36336,     0.36436,     0.36537,     0.36637,     0.36737,     0.36837,     0.36937,     0.37037,     0.37137,     0.37237,     0.37337,     0.37437,     0.37538,     0.37638,     0.37738,     0.37838,     0.37938,     0.38038,     0.38138,     0.38238,     0.38338,\n",
              "           0.38438,     0.38539,     0.38639,     0.38739,     0.38839,     0.38939,     0.39039,     0.39139,     0.39239,     0.39339,     0.39439,      0.3954,      0.3964,      0.3974,      0.3984,      0.3994,      0.4004,      0.4014,      0.4024,      0.4034,      0.4044,     0.40541,     0.40641,     0.40741,\n",
              "           0.40841,     0.40941,     0.41041,     0.41141,     0.41241,     0.41341,     0.41441,     0.41542,     0.41642,     0.41742,     0.41842,     0.41942,     0.42042,     0.42142,     0.42242,     0.42342,     0.42442,     0.42543,     0.42643,     0.42743,     0.42843,     0.42943,     0.43043,     0.43143,\n",
              "           0.43243,     0.43343,     0.43443,     0.43544,     0.43644,     0.43744,     0.43844,     0.43944,     0.44044,     0.44144,     0.44244,     0.44344,     0.44444,     0.44545,     0.44645,     0.44745,     0.44845,     0.44945,     0.45045,     0.45145,     0.45245,     0.45345,     0.45445,     0.45546,\n",
              "           0.45646,     0.45746,     0.45846,     0.45946,     0.46046,     0.46146,     0.46246,     0.46346,     0.46446,     0.46547,     0.46647,     0.46747,     0.46847,     0.46947,     0.47047,     0.47147,     0.47247,     0.47347,     0.47447,     0.47548,     0.47648,     0.47748,     0.47848,     0.47948,\n",
              "           0.48048,     0.48148,     0.48248,     0.48348,     0.48448,     0.48549,     0.48649,     0.48749,     0.48849,     0.48949,     0.49049,     0.49149,     0.49249,     0.49349,     0.49449,      0.4955,      0.4965,      0.4975,      0.4985,      0.4995,      0.5005,      0.5015,      0.5025,      0.5035,\n",
              "            0.5045,     0.50551,     0.50651,     0.50751,     0.50851,     0.50951,     0.51051,     0.51151,     0.51251,     0.51351,     0.51451,     0.51552,     0.51652,     0.51752,     0.51852,     0.51952,     0.52052,     0.52152,     0.52252,     0.52352,     0.52452,     0.52553,     0.52653,     0.52753,\n",
              "           0.52853,     0.52953,     0.53053,     0.53153,     0.53253,     0.53353,     0.53453,     0.53554,     0.53654,     0.53754,     0.53854,     0.53954,     0.54054,     0.54154,     0.54254,     0.54354,     0.54454,     0.54555,     0.54655,     0.54755,     0.54855,     0.54955,     0.55055,     0.55155,\n",
              "           0.55255,     0.55355,     0.55455,     0.55556,     0.55656,     0.55756,     0.55856,     0.55956,     0.56056,     0.56156,     0.56256,     0.56356,     0.56456,     0.56557,     0.56657,     0.56757,     0.56857,     0.56957,     0.57057,     0.57157,     0.57257,     0.57357,     0.57457,     0.57558,\n",
              "           0.57658,     0.57758,     0.57858,     0.57958,     0.58058,     0.58158,     0.58258,     0.58358,     0.58458,     0.58559,     0.58659,     0.58759,     0.58859,     0.58959,     0.59059,     0.59159,     0.59259,     0.59359,     0.59459,      0.5956,      0.5966,      0.5976,      0.5986,      0.5996,\n",
              "            0.6006,      0.6016,      0.6026,      0.6036,      0.6046,     0.60561,     0.60661,     0.60761,     0.60861,     0.60961,     0.61061,     0.61161,     0.61261,     0.61361,     0.61461,     0.61562,     0.61662,     0.61762,     0.61862,     0.61962,     0.62062,     0.62162,     0.62262,     0.62362,\n",
              "           0.62462,     0.62563,     0.62663,     0.62763,     0.62863,     0.62963,     0.63063,     0.63163,     0.63263,     0.63363,     0.63463,     0.63564,     0.63664,     0.63764,     0.63864,     0.63964,     0.64064,     0.64164,     0.64264,     0.64364,     0.64464,     0.64565,     0.64665,     0.64765,\n",
              "           0.64865,     0.64965,     0.65065,     0.65165,     0.65265,     0.65365,     0.65465,     0.65566,     0.65666,     0.65766,     0.65866,     0.65966,     0.66066,     0.66166,     0.66266,     0.66366,     0.66466,     0.66567,     0.66667,     0.66767,     0.66867,     0.66967,     0.67067,     0.67167,\n",
              "           0.67267,     0.67367,     0.67467,     0.67568,     0.67668,     0.67768,     0.67868,     0.67968,     0.68068,     0.68168,     0.68268,     0.68368,     0.68468,     0.68569,     0.68669,     0.68769,     0.68869,     0.68969,     0.69069,     0.69169,     0.69269,     0.69369,     0.69469,      0.6957,\n",
              "            0.6967,      0.6977,      0.6987,      0.6997,      0.7007,      0.7017,      0.7027,      0.7037,      0.7047,     0.70571,     0.70671,     0.70771,     0.70871,     0.70971,     0.71071,     0.71171,     0.71271,     0.71371,     0.71471,     0.71572,     0.71672,     0.71772,     0.71872,     0.71972,\n",
              "           0.72072,     0.72172,     0.72272,     0.72372,     0.72472,     0.72573,     0.72673,     0.72773,     0.72873,     0.72973,     0.73073,     0.73173,     0.73273,     0.73373,     0.73473,     0.73574,     0.73674,     0.73774,     0.73874,     0.73974,     0.74074,     0.74174,     0.74274,     0.74374,\n",
              "           0.74474,     0.74575,     0.74675,     0.74775,     0.74875,     0.74975,     0.75075,     0.75175,     0.75275,     0.75375,     0.75475,     0.75576,     0.75676,     0.75776,     0.75876,     0.75976,     0.76076,     0.76176,     0.76276,     0.76376,     0.76476,     0.76577,     0.76677,     0.76777,\n",
              "           0.76877,     0.76977,     0.77077,     0.77177,     0.77277,     0.77377,     0.77477,     0.77578,     0.77678,     0.77778,     0.77878,     0.77978,     0.78078,     0.78178,     0.78278,     0.78378,     0.78478,     0.78579,     0.78679,     0.78779,     0.78879,     0.78979,     0.79079,     0.79179,\n",
              "           0.79279,     0.79379,     0.79479,      0.7958,      0.7968,      0.7978,      0.7988,      0.7998,      0.8008,      0.8018,      0.8028,      0.8038,      0.8048,     0.80581,     0.80681,     0.80781,     0.80881,     0.80981,     0.81081,     0.81181,     0.81281,     0.81381,     0.81481,     0.81582,\n",
              "           0.81682,     0.81782,     0.81882,     0.81982,     0.82082,     0.82182,     0.82282,     0.82382,     0.82482,     0.82583,     0.82683,     0.82783,     0.82883,     0.82983,     0.83083,     0.83183,     0.83283,     0.83383,     0.83483,     0.83584,     0.83684,     0.83784,     0.83884,     0.83984,\n",
              "           0.84084,     0.84184,     0.84284,     0.84384,     0.84484,     0.84585,     0.84685,     0.84785,     0.84885,     0.84985,     0.85085,     0.85185,     0.85285,     0.85385,     0.85485,     0.85586,     0.85686,     0.85786,     0.85886,     0.85986,     0.86086,     0.86186,     0.86286,     0.86386,\n",
              "           0.86486,     0.86587,     0.86687,     0.86787,     0.86887,     0.86987,     0.87087,     0.87187,     0.87287,     0.87387,     0.87487,     0.87588,     0.87688,     0.87788,     0.87888,     0.87988,     0.88088,     0.88188,     0.88288,     0.88388,     0.88488,     0.88589,     0.88689,     0.88789,\n",
              "           0.88889,     0.88989,     0.89089,     0.89189,     0.89289,     0.89389,     0.89489,      0.8959,      0.8969,      0.8979,      0.8989,      0.8999,      0.9009,      0.9019,      0.9029,      0.9039,      0.9049,     0.90591,     0.90691,     0.90791,     0.90891,     0.90991,     0.91091,     0.91191,\n",
              "           0.91291,     0.91391,     0.91491,     0.91592,     0.91692,     0.91792,     0.91892,     0.91992,     0.92092,     0.92192,     0.92292,     0.92392,     0.92492,     0.92593,     0.92693,     0.92793,     0.92893,     0.92993,     0.93093,     0.93193,     0.93293,     0.93393,     0.93493,     0.93594,\n",
              "           0.93694,     0.93794,     0.93894,     0.93994,     0.94094,     0.94194,     0.94294,     0.94394,     0.94494,     0.94595,     0.94695,     0.94795,     0.94895,     0.94995,     0.95095,     0.95195,     0.95295,     0.95395,     0.95495,     0.95596,     0.95696,     0.95796,     0.95896,     0.95996,\n",
              "           0.96096,     0.96196,     0.96296,     0.96396,     0.96496,     0.96597,     0.96697,     0.96797,     0.96897,     0.96997,     0.97097,     0.97197,     0.97297,     0.97397,     0.97497,     0.97598,     0.97698,     0.97798,     0.97898,     0.97998,     0.98098,     0.98198,     0.98298,     0.98398,\n",
              "           0.98498,     0.98599,     0.98699,     0.98799,     0.98899,     0.98999,     0.99099,     0.99199,     0.99299,     0.99399,     0.99499,       0.996,       0.997,       0.998,       0.999,           1]), array([[  0.0033333,   0.0033333,   0.0034131,   0.0038675,   0.0037635,   0.0038485,    0.010112,     0.11483,     0.21825,     0.23781,      0.2487,     0.27069,     0.28116,     0.31133,     0.32486,     0.33117,     0.33713,     0.35544,     0.37012,     0.39671,     0.40007,     0.40344,     0.41296,\n",
              "            0.41729,     0.42694,     0.45395,     0.46965,     0.47458,     0.47971,      0.4874,      0.5177,     0.53291,     0.53795,     0.54144,     0.54493,      0.5609,      0.5562,     0.55151,     0.56446,     0.57848,     0.59675,     0.59898,     0.60121,     0.60344,     0.60567,      0.6079,\n",
              "            0.61014,      0.6159,     0.62441,      0.6388,     0.64974,      0.6543,     0.65886,     0.66342,     0.68845,     0.69175,     0.69505,     0.69835,     0.70165,     0.70495,     0.70825,     0.71407,     0.72181,     0.72954,      0.7357,     0.74033,     0.74497,      0.7496,     0.75424,\n",
              "            0.75887,     0.76346,     0.76805,     0.77264,     0.77723,     0.78182,     0.81561,     0.82088,     0.82615,     0.83142,      0.8367,     0.84197,     0.84662,     0.84892,     0.85121,      0.8535,     0.85579,     0.85808,     0.86037,     0.86266,     0.86495,     0.86724,     0.86953,\n",
              "            0.87182,     0.87411,      0.8764,     0.87869,     0.88013,     0.88043,     0.88073,     0.88104,     0.88134,     0.88164,     0.88194,     0.88224,     0.88255,     0.88285,     0.88315,     0.88345,     0.88376,     0.88406,     0.88436,     0.88466,     0.88496,     0.88527,     0.88557,\n",
              "            0.88587,     0.88617,     0.88647,     0.88678,     0.88708,     0.88738,     0.88768,     0.88799,     0.88829,     0.88859,     0.88889,     0.88919,      0.8895,      0.8898,      0.8901,      0.8904,      0.8907,     0.89101,     0.89131,     0.89161,     0.89191,     0.89222,     0.89252,\n",
              "            0.89282,     0.89312,     0.89342,     0.89373,     0.89403,     0.89433,     0.89463,     0.89493,     0.89524,     0.89554,     0.89584,     0.89614,     0.89644,     0.89675,     0.89705,     0.89735,     0.89765,     0.89796,     0.89826,     0.89856,     0.89886,     0.89916,     0.89947,\n",
              "            0.89977,     0.90007,     0.90037,     0.90067,     0.90098,     0.90128,     0.90158,     0.90188,     0.90219,     0.90249,     0.90279,     0.90309,     0.90339,      0.9037,       0.904,      0.9043,      0.9046,      0.9049,     0.90521,     0.90551,     0.90581,     0.90611,     0.90642,\n",
              "            0.90672,     0.90702,     0.90732,     0.90762,     0.90793,     0.90823,     0.90853,     0.90883,     0.90913,     0.90944,     0.90974,     0.91004,     0.91034,     0.91064,     0.91095,     0.91125,     0.91155,     0.91185,     0.91216,     0.91246,     0.91276,     0.91306,     0.91336,\n",
              "            0.91367,     0.91397,     0.91427,     0.91457,     0.91487,     0.91518,     0.91548,     0.91578,     0.91608,     0.91639,     0.91662,     0.91598,     0.91534,     0.91471,     0.91407,     0.91343,     0.90903,     0.90889,     0.90875,     0.90861,     0.90846,     0.90832,     0.90818,\n",
              "            0.90804,      0.9079,     0.90775,     0.90761,     0.90747,     0.90733,     0.90718,     0.90704,      0.9069,     0.90676,     0.90661,     0.90647,     0.90633,     0.90619,     0.90605,      0.9059,     0.90576,     0.90562,     0.90548,     0.90533,     0.90519,     0.90505,     0.90491,\n",
              "            0.90476,      0.9055,     0.90624,     0.90699,     0.90773,     0.90848,     0.90922,     0.90997,     0.91072,     0.91146,     0.91221,     0.91295,      0.9137,     0.91445,     0.91519,     0.91594,     0.91668,     0.91743,     0.91817,     0.91892,     0.91967,     0.92041,     0.92116,\n",
              "             0.9219,     0.92265,     0.92339,     0.92414,     0.92489,     0.92563,     0.92638,     0.92712,     0.92787,     0.92862,     0.92936,     0.93011,     0.93085,      0.9316,     0.93234,     0.93309,     0.93384,     0.93458,     0.93533,     0.93607,     0.93682,     0.93756,     0.93831,\n",
              "            0.93906,      0.9398,     0.94055,     0.94129,     0.94204,     0.94278,     0.94353,     0.94428,     0.94502,     0.94577,     0.94651,     0.94726,     0.94801,     0.94875,      0.9495,     0.94998,     0.94994,     0.94989,     0.94985,      0.9498,     0.94975,     0.94971,     0.94966,\n",
              "            0.94961,     0.94957,     0.94952,     0.94947,     0.94943,     0.94938,     0.94933,     0.94929,     0.94924,     0.94919,     0.94915,      0.9491,     0.94905,     0.94901,     0.94896,     0.94891,     0.94887,     0.94882,     0.94877,     0.94873,     0.94868,     0.94863,     0.94859,\n",
              "            0.94854,     0.94849,     0.94845,      0.9484,     0.94835,     0.94831,     0.94826,     0.94822,     0.94817,     0.94812,     0.94808,     0.94803,     0.94798,     0.94794,     0.94789,     0.94784,      0.9478,     0.94775,      0.9477,     0.94766,     0.94761,     0.94756,     0.94752,\n",
              "            0.94747,     0.94742,     0.94738,     0.94735,     0.94733,     0.94732,      0.9473,     0.94728,     0.94726,     0.94724,     0.94722,      0.9472,     0.94719,     0.94717,     0.94715,     0.94713,     0.94711,     0.94709,     0.94707,     0.94705,     0.94704,     0.94702,       0.947,\n",
              "            0.94698,     0.94696,     0.94694,     0.94692,     0.94691,     0.94689,     0.94687,     0.94685,     0.94683,     0.94681,     0.94679,     0.94677,     0.94676,     0.94674,     0.94672,      0.9467,     0.94668,     0.94666,     0.94664,     0.94663,     0.94661,     0.94659,     0.94657,\n",
              "            0.94655,     0.94653,     0.94651,     0.94649,     0.94648,     0.94646,     0.94644,     0.94642,      0.9464,     0.94638,     0.94636,     0.94635,     0.94633,     0.94631,     0.94629,     0.94627,     0.94625,     0.94623,     0.94621,      0.9462,     0.94618,     0.94616,     0.94614,\n",
              "            0.94612,      0.9461,     0.94608,     0.94607,     0.94605,     0.94603,     0.94601,     0.94599,     0.94597,     0.94595,     0.94593,     0.94592,      0.9459,     0.94588,     0.94586,     0.94584,     0.94582,      0.9458,     0.94579,     0.94577,     0.94575,     0.94573,     0.94571,\n",
              "            0.94569,     0.94567,     0.94565,     0.94564,     0.94562,      0.9456,     0.94558,     0.94556,     0.94554,     0.94552,     0.94551,     0.94549,     0.94547,     0.94545,     0.94543,     0.94541,     0.94539,     0.94537,     0.94536,     0.94534,     0.94532,      0.9453,     0.94528,\n",
              "            0.94526,     0.94524,     0.94523,     0.94521,     0.94519,     0.94517,     0.94515,     0.94513,     0.94511,     0.94509,     0.94508,     0.94506,     0.94504,     0.94502,       0.945,     0.94498,     0.94496,     0.94495,     0.94493,     0.94491,     0.94489,     0.94487,     0.94485,\n",
              "            0.94483,     0.94481,      0.9448,     0.94478,     0.94476,     0.94474,     0.94472,      0.9447,     0.94468,     0.94467,     0.94465,     0.94463,     0.94461,     0.94459,     0.94457,     0.94455,     0.94453,     0.94452,      0.9445,     0.94448,     0.94446,     0.94444,      0.9444,\n",
              "            0.94436,     0.94432,     0.94428,     0.94424,     0.94419,     0.94415,     0.94411,     0.94407,     0.94403,     0.94399,     0.94395,     0.94391,     0.94387,     0.94383,     0.94379,     0.94375,     0.94371,     0.94367,     0.94363,     0.94359,     0.94355,     0.94351,     0.94347,\n",
              "            0.94343,     0.94339,     0.94334,      0.9433,     0.94326,     0.94322,     0.94318,     0.94314,      0.9431,     0.94306,     0.94302,     0.94298,     0.94294,      0.9429,     0.94286,     0.94282,     0.94278,     0.94274,      0.9427,     0.94266,     0.94262,     0.94258,     0.94253,\n",
              "            0.94249,     0.94245,     0.94241,     0.94237,     0.94233,     0.94229,     0.94225,     0.94221,     0.94217,     0.94213,     0.94209,     0.94205,     0.94201,     0.94197,     0.94193,     0.94189,     0.94185,     0.94181,     0.94177,     0.94172,     0.94168,     0.94164,      0.9416,\n",
              "            0.94156,     0.94152,     0.94148,     0.94144,      0.9414,     0.94136,     0.94132,     0.94128,     0.94124,      0.9412,     0.94159,     0.94249,     0.94339,     0.94429,     0.94519,     0.94609,     0.94699,     0.94788,     0.94878,     0.94968,     0.95058,     0.95148,     0.95238,\n",
              "            0.95328,     0.95418,     0.95508,     0.95598,     0.95688,     0.95778,     0.95868,     0.95958,     0.96048,     0.96138,     0.96228,     0.96318,     0.96408,     0.96498,     0.96588,     0.96678,     0.96768,     0.96858,     0.96948,     0.97038,     0.97128,     0.97218,     0.97308,\n",
              "            0.97398,     0.97488,     0.97578,     0.97668,     0.97758,     0.97848,     0.97938,     0.98028,     0.98118,     0.98208,     0.98298,     0.98388,     0.98478,     0.98568,     0.98658,     0.98748,     0.98838,     0.98928,     0.99018,     0.99108,     0.99198,     0.99288,     0.99378,\n",
              "            0.99467,     0.99557,     0.99647,     0.99737,     0.99827,     0.99917,           1,           1,           1,           1,           1,           1,           1,           1,           1,           1,           1,           1,           1,           1,           1,           1,           1,\n",
              "                  1,           1,           1,           1,           1,           1,           1,           1,           1,           1,           1,           1,           1,           1,           1,           1,           1,           1,           1,           1,           1,           1,           1,\n",
              "                  1,           1,           1,           1,           1,           1,           1,           1,           1,           1,           1,           1,           1,           1,           1,           1,           1,           1,           1,           1,           1,           1,           1,\n",
              "                  1,           1,           1,           1,           1,           1,           1,           1,           1,           1,           1,           1,           1,           1,           1,           1,           1,           1,           1,           1,           1,           1,           1,\n",
              "                  1,           1,           1,           1,           1,           1,           1,           1,           1,           1,           1,           1,           1,           1,           1,           1,           1,           1,           1,           1,           1,           1,           1,\n",
              "                  1,           1,           1,           1,           1,           1,           1,           1,           1,           1,           1,           1,           1,           1,           1,           1,           1,           1,           1,           1,           1,           1,           1,\n",
              "                  1,           1,           1,           1,           1,           1,           1,           1,           1,           1,           1,           1,           1,           1,           1,           1,           1,           1,           1,           1,           1,           1,           1,\n",
              "                  1,           1,           1,           1,           1,           1,           1,           1,           1,           1,           1,           1,           1,           1,           1,           1,           1,           1,           1,           1,           1,           1,           1,\n",
              "                  1,           1,           1,           1,           1,           1,           1,           1,           1,           1,           1,           1,           1,           1,           1,           1,           1,           1,           1,           1,           1,           1,           1,\n",
              "                  1,           1,           1,           1,           1,           1,           1,           1,           1,           1,           1,           1,           1,           1,           1,           1,           1,           1,           1,           1,           1,           1,           1,\n",
              "                  1,           1,           1,           1,           1,           1,           1,           1,           1,           1,           1,           1,           1,           1,           1,           1,           1,           1,           1,           1,           1,           1,           1,\n",
              "                  1,           1,           1,           1,           1,           1,           1,           1,           1,           1,           1,           1,           1,           1,           1,           1,           1,           1,           1,           1,           1,           1,           1,\n",
              "                  1,           1,           1,           1,           1,           1,           1,           1,           1,           1,           1,           1,           1,           1,           1,           1,           1,           1,           1,           1,           1,           1,           1,\n",
              "                  1,           1,           1,           1,           1,           1,           1,           1,           1,           1,           1,           1,           1,           1,           1,           1,           1,           1,           1,           1,           1,           1,           1,\n",
              "                  1,           1,           1,           1,           1,           1,           1,           1,           1,           1,           1]]), 'Confidence', 'Precision'], [array([          0,    0.001001,    0.002002,    0.003003,    0.004004,    0.005005,    0.006006,    0.007007,    0.008008,    0.009009,     0.01001,    0.011011,    0.012012,    0.013013,    0.014014,    0.015015,    0.016016,    0.017017,    0.018018,    0.019019,     0.02002,    0.021021,    0.022022,    0.023023,\n",
              "          0.024024,    0.025025,    0.026026,    0.027027,    0.028028,    0.029029,     0.03003,    0.031031,    0.032032,    0.033033,    0.034034,    0.035035,    0.036036,    0.037037,    0.038038,    0.039039,     0.04004,    0.041041,    0.042042,    0.043043,    0.044044,    0.045045,    0.046046,    0.047047,\n",
              "          0.048048,    0.049049,     0.05005,    0.051051,    0.052052,    0.053053,    0.054054,    0.055055,    0.056056,    0.057057,    0.058058,    0.059059,     0.06006,    0.061061,    0.062062,    0.063063,    0.064064,    0.065065,    0.066066,    0.067067,    0.068068,    0.069069,     0.07007,    0.071071,\n",
              "          0.072072,    0.073073,    0.074074,    0.075075,    0.076076,    0.077077,    0.078078,    0.079079,     0.08008,    0.081081,    0.082082,    0.083083,    0.084084,    0.085085,    0.086086,    0.087087,    0.088088,    0.089089,     0.09009,    0.091091,    0.092092,    0.093093,    0.094094,    0.095095,\n",
              "          0.096096,    0.097097,    0.098098,    0.099099,      0.1001,      0.1011,      0.1021,      0.1031,      0.1041,     0.10511,     0.10611,     0.10711,     0.10811,     0.10911,     0.11011,     0.11111,     0.11211,     0.11311,     0.11411,     0.11512,     0.11612,     0.11712,     0.11812,     0.11912,\n",
              "           0.12012,     0.12112,     0.12212,     0.12312,     0.12412,     0.12513,     0.12613,     0.12713,     0.12813,     0.12913,     0.13013,     0.13113,     0.13213,     0.13313,     0.13413,     0.13514,     0.13614,     0.13714,     0.13814,     0.13914,     0.14014,     0.14114,     0.14214,     0.14314,\n",
              "           0.14414,     0.14515,     0.14615,     0.14715,     0.14815,     0.14915,     0.15015,     0.15115,     0.15215,     0.15315,     0.15415,     0.15516,     0.15616,     0.15716,     0.15816,     0.15916,     0.16016,     0.16116,     0.16216,     0.16316,     0.16416,     0.16517,     0.16617,     0.16717,\n",
              "           0.16817,     0.16917,     0.17017,     0.17117,     0.17217,     0.17317,     0.17417,     0.17518,     0.17618,     0.17718,     0.17818,     0.17918,     0.18018,     0.18118,     0.18218,     0.18318,     0.18418,     0.18519,     0.18619,     0.18719,     0.18819,     0.18919,     0.19019,     0.19119,\n",
              "           0.19219,     0.19319,     0.19419,      0.1952,      0.1962,      0.1972,      0.1982,      0.1992,      0.2002,      0.2012,      0.2022,      0.2032,      0.2042,     0.20521,     0.20621,     0.20721,     0.20821,     0.20921,     0.21021,     0.21121,     0.21221,     0.21321,     0.21421,     0.21522,\n",
              "           0.21622,     0.21722,     0.21822,     0.21922,     0.22022,     0.22122,     0.22222,     0.22322,     0.22422,     0.22523,     0.22623,     0.22723,     0.22823,     0.22923,     0.23023,     0.23123,     0.23223,     0.23323,     0.23423,     0.23524,     0.23624,     0.23724,     0.23824,     0.23924,\n",
              "           0.24024,     0.24124,     0.24224,     0.24324,     0.24424,     0.24525,     0.24625,     0.24725,     0.24825,     0.24925,     0.25025,     0.25125,     0.25225,     0.25325,     0.25425,     0.25526,     0.25626,     0.25726,     0.25826,     0.25926,     0.26026,     0.26126,     0.26226,     0.26326,\n",
              "           0.26426,     0.26527,     0.26627,     0.26727,     0.26827,     0.26927,     0.27027,     0.27127,     0.27227,     0.27327,     0.27427,     0.27528,     0.27628,     0.27728,     0.27828,     0.27928,     0.28028,     0.28128,     0.28228,     0.28328,     0.28428,     0.28529,     0.28629,     0.28729,\n",
              "           0.28829,     0.28929,     0.29029,     0.29129,     0.29229,     0.29329,     0.29429,      0.2953,      0.2963,      0.2973,      0.2983,      0.2993,      0.3003,      0.3013,      0.3023,      0.3033,      0.3043,     0.30531,     0.30631,     0.30731,     0.30831,     0.30931,     0.31031,     0.31131,\n",
              "           0.31231,     0.31331,     0.31431,     0.31532,     0.31632,     0.31732,     0.31832,     0.31932,     0.32032,     0.32132,     0.32232,     0.32332,     0.32432,     0.32533,     0.32633,     0.32733,     0.32833,     0.32933,     0.33033,     0.33133,     0.33233,     0.33333,     0.33433,     0.33534,\n",
              "           0.33634,     0.33734,     0.33834,     0.33934,     0.34034,     0.34134,     0.34234,     0.34334,     0.34434,     0.34535,     0.34635,     0.34735,     0.34835,     0.34935,     0.35035,     0.35135,     0.35235,     0.35335,     0.35435,     0.35536,     0.35636,     0.35736,     0.35836,     0.35936,\n",
              "           0.36036,     0.36136,     0.36236,     0.36336,     0.36436,     0.36537,     0.36637,     0.36737,     0.36837,     0.36937,     0.37037,     0.37137,     0.37237,     0.37337,     0.37437,     0.37538,     0.37638,     0.37738,     0.37838,     0.37938,     0.38038,     0.38138,     0.38238,     0.38338,\n",
              "           0.38438,     0.38539,     0.38639,     0.38739,     0.38839,     0.38939,     0.39039,     0.39139,     0.39239,     0.39339,     0.39439,      0.3954,      0.3964,      0.3974,      0.3984,      0.3994,      0.4004,      0.4014,      0.4024,      0.4034,      0.4044,     0.40541,     0.40641,     0.40741,\n",
              "           0.40841,     0.40941,     0.41041,     0.41141,     0.41241,     0.41341,     0.41441,     0.41542,     0.41642,     0.41742,     0.41842,     0.41942,     0.42042,     0.42142,     0.42242,     0.42342,     0.42442,     0.42543,     0.42643,     0.42743,     0.42843,     0.42943,     0.43043,     0.43143,\n",
              "           0.43243,     0.43343,     0.43443,     0.43544,     0.43644,     0.43744,     0.43844,     0.43944,     0.44044,     0.44144,     0.44244,     0.44344,     0.44444,     0.44545,     0.44645,     0.44745,     0.44845,     0.44945,     0.45045,     0.45145,     0.45245,     0.45345,     0.45445,     0.45546,\n",
              "           0.45646,     0.45746,     0.45846,     0.45946,     0.46046,     0.46146,     0.46246,     0.46346,     0.46446,     0.46547,     0.46647,     0.46747,     0.46847,     0.46947,     0.47047,     0.47147,     0.47247,     0.47347,     0.47447,     0.47548,     0.47648,     0.47748,     0.47848,     0.47948,\n",
              "           0.48048,     0.48148,     0.48248,     0.48348,     0.48448,     0.48549,     0.48649,     0.48749,     0.48849,     0.48949,     0.49049,     0.49149,     0.49249,     0.49349,     0.49449,      0.4955,      0.4965,      0.4975,      0.4985,      0.4995,      0.5005,      0.5015,      0.5025,      0.5035,\n",
              "            0.5045,     0.50551,     0.50651,     0.50751,     0.50851,     0.50951,     0.51051,     0.51151,     0.51251,     0.51351,     0.51451,     0.51552,     0.51652,     0.51752,     0.51852,     0.51952,     0.52052,     0.52152,     0.52252,     0.52352,     0.52452,     0.52553,     0.52653,     0.52753,\n",
              "           0.52853,     0.52953,     0.53053,     0.53153,     0.53253,     0.53353,     0.53453,     0.53554,     0.53654,     0.53754,     0.53854,     0.53954,     0.54054,     0.54154,     0.54254,     0.54354,     0.54454,     0.54555,     0.54655,     0.54755,     0.54855,     0.54955,     0.55055,     0.55155,\n",
              "           0.55255,     0.55355,     0.55455,     0.55556,     0.55656,     0.55756,     0.55856,     0.55956,     0.56056,     0.56156,     0.56256,     0.56356,     0.56456,     0.56557,     0.56657,     0.56757,     0.56857,     0.56957,     0.57057,     0.57157,     0.57257,     0.57357,     0.57457,     0.57558,\n",
              "           0.57658,     0.57758,     0.57858,     0.57958,     0.58058,     0.58158,     0.58258,     0.58358,     0.58458,     0.58559,     0.58659,     0.58759,     0.58859,     0.58959,     0.59059,     0.59159,     0.59259,     0.59359,     0.59459,      0.5956,      0.5966,      0.5976,      0.5986,      0.5996,\n",
              "            0.6006,      0.6016,      0.6026,      0.6036,      0.6046,     0.60561,     0.60661,     0.60761,     0.60861,     0.60961,     0.61061,     0.61161,     0.61261,     0.61361,     0.61461,     0.61562,     0.61662,     0.61762,     0.61862,     0.61962,     0.62062,     0.62162,     0.62262,     0.62362,\n",
              "           0.62462,     0.62563,     0.62663,     0.62763,     0.62863,     0.62963,     0.63063,     0.63163,     0.63263,     0.63363,     0.63463,     0.63564,     0.63664,     0.63764,     0.63864,     0.63964,     0.64064,     0.64164,     0.64264,     0.64364,     0.64464,     0.64565,     0.64665,     0.64765,\n",
              "           0.64865,     0.64965,     0.65065,     0.65165,     0.65265,     0.65365,     0.65465,     0.65566,     0.65666,     0.65766,     0.65866,     0.65966,     0.66066,     0.66166,     0.66266,     0.66366,     0.66466,     0.66567,     0.66667,     0.66767,     0.66867,     0.66967,     0.67067,     0.67167,\n",
              "           0.67267,     0.67367,     0.67467,     0.67568,     0.67668,     0.67768,     0.67868,     0.67968,     0.68068,     0.68168,     0.68268,     0.68368,     0.68468,     0.68569,     0.68669,     0.68769,     0.68869,     0.68969,     0.69069,     0.69169,     0.69269,     0.69369,     0.69469,      0.6957,\n",
              "            0.6967,      0.6977,      0.6987,      0.6997,      0.7007,      0.7017,      0.7027,      0.7037,      0.7047,     0.70571,     0.70671,     0.70771,     0.70871,     0.70971,     0.71071,     0.71171,     0.71271,     0.71371,     0.71471,     0.71572,     0.71672,     0.71772,     0.71872,     0.71972,\n",
              "           0.72072,     0.72172,     0.72272,     0.72372,     0.72472,     0.72573,     0.72673,     0.72773,     0.72873,     0.72973,     0.73073,     0.73173,     0.73273,     0.73373,     0.73473,     0.73574,     0.73674,     0.73774,     0.73874,     0.73974,     0.74074,     0.74174,     0.74274,     0.74374,\n",
              "           0.74474,     0.74575,     0.74675,     0.74775,     0.74875,     0.74975,     0.75075,     0.75175,     0.75275,     0.75375,     0.75475,     0.75576,     0.75676,     0.75776,     0.75876,     0.75976,     0.76076,     0.76176,     0.76276,     0.76376,     0.76476,     0.76577,     0.76677,     0.76777,\n",
              "           0.76877,     0.76977,     0.77077,     0.77177,     0.77277,     0.77377,     0.77477,     0.77578,     0.77678,     0.77778,     0.77878,     0.77978,     0.78078,     0.78178,     0.78278,     0.78378,     0.78478,     0.78579,     0.78679,     0.78779,     0.78879,     0.78979,     0.79079,     0.79179,\n",
              "           0.79279,     0.79379,     0.79479,      0.7958,      0.7968,      0.7978,      0.7988,      0.7998,      0.8008,      0.8018,      0.8028,      0.8038,      0.8048,     0.80581,     0.80681,     0.80781,     0.80881,     0.80981,     0.81081,     0.81181,     0.81281,     0.81381,     0.81481,     0.81582,\n",
              "           0.81682,     0.81782,     0.81882,     0.81982,     0.82082,     0.82182,     0.82282,     0.82382,     0.82482,     0.82583,     0.82683,     0.82783,     0.82883,     0.82983,     0.83083,     0.83183,     0.83283,     0.83383,     0.83483,     0.83584,     0.83684,     0.83784,     0.83884,     0.83984,\n",
              "           0.84084,     0.84184,     0.84284,     0.84384,     0.84484,     0.84585,     0.84685,     0.84785,     0.84885,     0.84985,     0.85085,     0.85185,     0.85285,     0.85385,     0.85485,     0.85586,     0.85686,     0.85786,     0.85886,     0.85986,     0.86086,     0.86186,     0.86286,     0.86386,\n",
              "           0.86486,     0.86587,     0.86687,     0.86787,     0.86887,     0.86987,     0.87087,     0.87187,     0.87287,     0.87387,     0.87487,     0.87588,     0.87688,     0.87788,     0.87888,     0.87988,     0.88088,     0.88188,     0.88288,     0.88388,     0.88488,     0.88589,     0.88689,     0.88789,\n",
              "           0.88889,     0.88989,     0.89089,     0.89189,     0.89289,     0.89389,     0.89489,      0.8959,      0.8969,      0.8979,      0.8989,      0.8999,      0.9009,      0.9019,      0.9029,      0.9039,      0.9049,     0.90591,     0.90691,     0.90791,     0.90891,     0.90991,     0.91091,     0.91191,\n",
              "           0.91291,     0.91391,     0.91491,     0.91592,     0.91692,     0.91792,     0.91892,     0.91992,     0.92092,     0.92192,     0.92292,     0.92392,     0.92492,     0.92593,     0.92693,     0.92793,     0.92893,     0.92993,     0.93093,     0.93193,     0.93293,     0.93393,     0.93493,     0.93594,\n",
              "           0.93694,     0.93794,     0.93894,     0.93994,     0.94094,     0.94194,     0.94294,     0.94394,     0.94494,     0.94595,     0.94695,     0.94795,     0.94895,     0.94995,     0.95095,     0.95195,     0.95295,     0.95395,     0.95495,     0.95596,     0.95696,     0.95796,     0.95896,     0.95996,\n",
              "           0.96096,     0.96196,     0.96296,     0.96396,     0.96496,     0.96597,     0.96697,     0.96797,     0.96897,     0.96997,     0.97097,     0.97197,     0.97297,     0.97397,     0.97497,     0.97598,     0.97698,     0.97798,     0.97898,     0.97998,     0.98098,     0.98198,     0.98298,     0.98398,\n",
              "           0.98498,     0.98599,     0.98699,     0.98799,     0.98899,     0.98999,     0.99099,     0.99199,     0.99299,     0.99399,     0.99499,       0.996,       0.997,       0.998,       0.999,           1]), array([[          1,           1,           1,           1,     0.95833,     0.95833,     0.95833,     0.95833,     0.95833,     0.95833,     0.95833,     0.95833,     0.95833,     0.95833,     0.95833,     0.95833,     0.95833,     0.95833,     0.95833,     0.95833,     0.95833,     0.95833,     0.95833,\n",
              "            0.95833,     0.95833,     0.95833,     0.95833,     0.95833,     0.95833,     0.95833,     0.95833,     0.95833,     0.95833,     0.95833,     0.95833,     0.95806,     0.94022,     0.92238,     0.91667,     0.91667,     0.91667,     0.91667,     0.91667,     0.91667,     0.91667,     0.91667,\n",
              "            0.91667,     0.91667,     0.91667,     0.91667,     0.91667,     0.91667,     0.91667,     0.91667,     0.91667,     0.91667,     0.91667,     0.91667,     0.91667,     0.91667,     0.91667,     0.91667,     0.91667,     0.91667,     0.91667,     0.91667,     0.91667,     0.91667,     0.91667,\n",
              "            0.91667,     0.91667,     0.91667,     0.91667,     0.91667,     0.91667,     0.91667,     0.91667,     0.91667,     0.91667,     0.91667,     0.91667,     0.91667,     0.91667,     0.91667,     0.91667,     0.91667,     0.91667,     0.91667,     0.91667,     0.91667,     0.91667,     0.91667,\n",
              "            0.91667,     0.91667,     0.91667,     0.91667,     0.91667,     0.91667,     0.91667,     0.91667,     0.91667,     0.91667,     0.91667,     0.91667,     0.91667,     0.91667,     0.91667,     0.91667,     0.91667,     0.91667,     0.91667,     0.91667,     0.91667,     0.91667,     0.91667,\n",
              "            0.91667,     0.91667,     0.91667,     0.91667,     0.91667,     0.91667,     0.91667,     0.91667,     0.91667,     0.91667,     0.91667,     0.91667,     0.91667,     0.91667,     0.91667,     0.91667,     0.91667,     0.91667,     0.91667,     0.91667,     0.91667,     0.91667,     0.91667,\n",
              "            0.91667,     0.91667,     0.91667,     0.91667,     0.91667,     0.91667,     0.91667,     0.91667,     0.91667,     0.91667,     0.91667,     0.91667,     0.91667,     0.91667,     0.91667,     0.91667,     0.91667,     0.91667,     0.91667,     0.91667,     0.91667,     0.91667,     0.91667,\n",
              "            0.91667,     0.91667,     0.91667,     0.91667,     0.91667,     0.91667,     0.91667,     0.91667,     0.91667,     0.91667,     0.91667,     0.91667,     0.91667,     0.91667,     0.91667,     0.91667,     0.91667,     0.91667,     0.91667,     0.91667,     0.91667,     0.91667,     0.91667,\n",
              "            0.91667,     0.91667,     0.91667,     0.91667,     0.91667,     0.91667,     0.91667,     0.91667,     0.91667,     0.91667,     0.91667,     0.91667,     0.91667,     0.91667,     0.91667,     0.91667,     0.91667,     0.91667,     0.91667,     0.91667,     0.91667,     0.91667,     0.91667,\n",
              "            0.91667,     0.91667,     0.91667,     0.91667,     0.91667,     0.91667,     0.91667,     0.91667,     0.91667,     0.91667,     0.91616,     0.90881,     0.90146,     0.89411,     0.88676,     0.87941,     0.83279,     0.83142,     0.83005,     0.82868,     0.82731,     0.82594,     0.82457,\n",
              "             0.8232,     0.82183,     0.82046,     0.81909,     0.81772,     0.81635,     0.81498,     0.81361,     0.81224,     0.81087,      0.8095,     0.80813,     0.80676,     0.80539,     0.80402,     0.80265,     0.80128,     0.79991,     0.79854,     0.79717,      0.7958,     0.79443,     0.79306,\n",
              "            0.79169,     0.79167,     0.79167,     0.79167,     0.79167,     0.79167,     0.79167,     0.79167,     0.79167,     0.79167,     0.79167,     0.79167,     0.79167,     0.79167,     0.79167,     0.79167,     0.79167,     0.79167,     0.79167,     0.79167,     0.79167,     0.79167,     0.79167,\n",
              "            0.79167,     0.79167,     0.79167,     0.79167,     0.79167,     0.79167,     0.79167,     0.79167,     0.79167,     0.79167,     0.79167,     0.79167,     0.79167,     0.79167,     0.79167,     0.79167,     0.79167,     0.79167,     0.79167,     0.79167,     0.79167,     0.79167,     0.79167,\n",
              "            0.79167,     0.79167,     0.79167,     0.79167,     0.79167,     0.79167,     0.79167,     0.79167,     0.79167,     0.79167,     0.79167,     0.79167,     0.79167,     0.79167,     0.79167,     0.79143,     0.79069,     0.78995,     0.78921,     0.78848,     0.78774,       0.787,     0.78626,\n",
              "            0.78553,     0.78479,     0.78405,     0.78332,     0.78258,     0.78184,      0.7811,     0.78037,     0.77963,     0.77889,     0.77815,     0.77742,     0.77668,     0.77594,      0.7752,     0.77447,     0.77373,     0.77299,     0.77225,     0.77152,     0.77078,     0.77004,      0.7693,\n",
              "            0.76857,     0.76783,     0.76709,     0.76635,     0.76562,     0.76488,     0.76414,      0.7634,     0.76267,     0.76193,     0.76119,     0.76046,     0.75972,     0.75898,     0.75824,     0.75751,     0.75677,     0.75603,     0.75529,     0.75456,     0.75382,     0.75308,     0.75234,\n",
              "            0.75161,     0.75087,     0.75013,     0.74978,     0.74952,     0.74925,     0.74898,     0.74872,     0.74845,     0.74819,     0.74792,     0.74765,     0.74739,     0.74712,     0.74686,     0.74659,     0.74632,     0.74606,     0.74579,     0.74553,     0.74526,     0.74499,     0.74473,\n",
              "            0.74446,      0.7442,     0.74393,     0.74366,      0.7434,     0.74313,     0.74287,      0.7426,     0.74233,     0.74207,      0.7418,     0.74154,     0.74127,       0.741,     0.74074,     0.74047,     0.74021,     0.73994,     0.73967,     0.73941,     0.73914,     0.73888,     0.73861,\n",
              "            0.73834,     0.73808,     0.73781,     0.73755,     0.73728,     0.73701,     0.73675,     0.73648,     0.73622,     0.73595,     0.73569,     0.73542,     0.73515,     0.73489,     0.73462,     0.73436,     0.73409,     0.73382,     0.73356,     0.73329,     0.73303,     0.73276,     0.73249,\n",
              "            0.73223,     0.73196,      0.7317,     0.73143,     0.73116,      0.7309,     0.73063,     0.73037,      0.7301,     0.72983,     0.72957,      0.7293,     0.72904,     0.72877,      0.7285,     0.72824,     0.72797,     0.72771,     0.72744,     0.72717,     0.72691,     0.72664,     0.72638,\n",
              "            0.72611,     0.72584,     0.72558,     0.72531,     0.72505,     0.72478,     0.72451,     0.72425,     0.72398,     0.72372,     0.72345,     0.72318,     0.72292,     0.72265,     0.72239,     0.72212,     0.72185,     0.72159,     0.72132,     0.72106,     0.72079,     0.72053,     0.72026,\n",
              "            0.71999,     0.71973,     0.71946,      0.7192,     0.71893,     0.71866,      0.7184,     0.71813,     0.71787,      0.7176,     0.71733,     0.71707,      0.7168,     0.71654,     0.71627,       0.716,     0.71574,     0.71547,     0.71521,     0.71494,     0.71467,     0.71441,     0.71414,\n",
              "            0.71388,     0.71361,     0.71334,     0.71308,     0.71281,     0.71255,     0.71228,     0.71201,     0.71175,     0.71148,     0.71122,     0.71095,     0.71068,     0.71042,     0.71015,     0.70989,     0.70962,     0.70935,     0.70909,     0.70882,     0.70856,     0.70825,     0.70773,\n",
              "            0.70722,      0.7067,     0.70619,     0.70567,     0.70515,     0.70464,     0.70412,      0.7036,     0.70309,     0.70257,     0.70205,     0.70154,     0.70102,     0.70051,     0.69999,     0.69947,     0.69896,     0.69844,     0.69792,     0.69741,     0.69689,     0.69638,     0.69586,\n",
              "            0.69534,     0.69483,     0.69431,     0.69379,     0.69328,     0.69276,     0.69225,     0.69173,     0.69121,      0.6907,     0.69018,     0.68966,     0.68915,     0.68863,     0.68812,      0.6876,     0.68708,     0.68657,     0.68605,     0.68553,     0.68502,      0.6845,     0.68399,\n",
              "            0.68347,     0.68295,     0.68244,     0.68192,      0.6814,     0.68089,     0.68037,     0.67985,     0.67934,     0.67882,     0.67831,     0.67779,     0.67727,     0.67676,     0.67624,     0.67572,     0.67521,     0.67469,     0.67418,     0.67366,     0.67314,     0.67263,     0.67211,\n",
              "            0.67159,     0.67108,     0.67056,     0.67005,     0.66953,     0.66901,      0.6685,     0.66798,     0.66746,     0.66695,     0.66667,     0.66667,     0.66667,     0.66667,     0.66667,     0.66667,     0.66667,     0.66667,     0.66667,     0.66667,     0.66667,     0.66667,     0.66667,\n",
              "            0.66667,     0.66667,     0.66667,     0.66667,     0.66667,     0.66667,     0.66667,     0.66667,     0.66667,     0.66667,     0.66667,     0.66667,     0.66667,     0.66667,     0.66667,     0.66667,     0.66667,     0.66667,     0.66667,     0.66667,     0.66667,     0.66667,     0.66667,\n",
              "            0.66667,     0.66667,     0.66667,     0.66667,     0.66667,     0.66667,     0.66667,     0.66667,     0.66667,     0.66667,     0.66667,     0.66667,     0.66667,     0.66667,     0.66667,     0.66667,     0.66667,     0.66667,     0.66667,     0.66667,     0.66667,     0.66667,     0.66667,\n",
              "            0.66667,     0.66667,     0.66667,     0.66667,     0.66667,     0.66667,     0.66652,     0.66476,     0.66299,     0.66123,     0.65946,     0.65769,     0.65593,     0.65416,      0.6524,     0.65063,     0.64887,      0.6471,     0.64534,     0.64357,      0.6418,     0.64004,     0.63827,\n",
              "            0.63651,     0.63474,     0.63298,     0.63121,     0.62945,     0.62768,     0.62592,     0.62423,     0.62263,     0.62102,     0.61942,     0.61782,     0.61621,     0.61461,     0.61301,      0.6114,      0.6098,      0.6082,      0.6066,     0.60499,     0.60339,     0.60179,     0.60018,\n",
              "            0.59858,     0.59698,     0.59538,     0.59377,     0.59217,     0.59057,     0.58896,     0.58736,     0.58576,     0.58415,      0.5819,     0.57896,     0.57603,     0.57309,     0.57015,     0.56721,     0.56428,     0.56134,      0.5584,     0.55546,     0.55253,     0.54959,     0.54665,\n",
              "            0.54371,     0.53906,     0.53047,     0.52188,     0.51328,     0.50469,      0.4991,     0.49713,     0.49515,     0.49318,      0.4912,     0.48923,     0.48725,     0.48528,      0.4833,     0.48133,     0.47935,     0.47737,      0.4754,     0.47342,     0.47145,     0.46947,      0.4675,\n",
              "            0.46552,     0.46355,     0.46157,      0.4596,     0.45707,     0.45357,     0.45007,     0.44657,     0.44307,     0.43957,     0.43607,     0.43257,     0.42907,     0.42556,     0.42206,     0.41856,      0.4151,     0.41169,     0.40827,     0.40486,     0.40145,     0.39803,     0.39462,\n",
              "             0.3912,     0.38779,     0.38437,     0.38096,     0.37755,     0.37439,     0.37197,     0.36956,     0.36714,     0.36473,     0.36231,      0.3599,     0.35748,     0.35507,     0.35265,     0.35024,     0.34782,     0.34541,       0.343,     0.34058,     0.33817,     0.33575,     0.33334,\n",
              "            0.32891,     0.32448,     0.32005,     0.31563,      0.3112,     0.30677,     0.30234,     0.29791,     0.29348,     0.28963,     0.28619,     0.28274,      0.2793,     0.27585,     0.27241,     0.26896,     0.26551,     0.26207,     0.25862,     0.25518,     0.25173,     0.24901,     0.24702,\n",
              "            0.24502,     0.24303,     0.24104,     0.23904,     0.23705,     0.23506,     0.23307,     0.23107,     0.22908,     0.22709,     0.22509,      0.2231,     0.22111,     0.21912,     0.21712,     0.21513,     0.21314,     0.21114,     0.20915,     0.20798,     0.20739,     0.20679,     0.20619,\n",
              "             0.2056,       0.205,      0.2044,     0.20381,     0.20321,     0.20262,     0.20202,     0.20142,     0.20083,     0.20023,     0.19963,     0.19904,     0.19844,     0.19785,     0.19725,     0.19665,     0.19606,     0.19546,     0.19486,     0.19427,     0.19367,     0.19308,     0.19248,\n",
              "            0.19188,     0.19129,     0.19069,     0.19009,      0.1895,      0.1889,     0.18831,     0.18771,     0.18711,     0.18652,     0.18592,     0.18532,     0.18473,     0.18413,     0.18354,     0.18294,     0.18234,     0.18175,     0.18115,     0.18055,     0.17996,     0.17936,     0.17877,\n",
              "            0.17817,     0.17757,     0.17698,     0.17638,     0.17578,     0.17519,     0.17459,       0.174,      0.1734,      0.1728,     0.17221,     0.17161,     0.17101,     0.17042,     0.16982,     0.16923,     0.16863,     0.16803,     0.16744,     0.16684,     0.15543,     0.13958,     0.12482,\n",
              "             0.1226,     0.12038,     0.11816,     0.11594,     0.11371,     0.11149,     0.10927,     0.10705,     0.10483,     0.10261,     0.10039,    0.098167,    0.095946,    0.093725,    0.091504,    0.089282,    0.087061,     0.08484,    0.082903,    0.081566,    0.080228,    0.078891,    0.077553,\n",
              "           0.076216,    0.074879,    0.073541,    0.072204,    0.070866,    0.069529,    0.068191,    0.066854,    0.065516,    0.064179,    0.062842,    0.061504,    0.060167,    0.058829,    0.057492,    0.056154,    0.054817,     0.05348,    0.052142,    0.050805,    0.049467,     0.04813,    0.046792,\n",
              "           0.045455,    0.044117,     0.04278,           0,           0,           0,           0,           0,           0,           0,           0,           0,           0,           0,           0,           0,           0,           0,           0,           0,           0,           0,           0,\n",
              "                  0,           0,           0,           0,           0,           0,           0,           0,           0,           0,           0]]), 'Confidence', 'Recall']]\n",
              "fitness: 0.5448364869705725\n",
              "keys: ['metrics/precision(B)', 'metrics/recall(B)', 'metrics/mAP50(B)', 'metrics/mAP50-95(B)']\n",
              "maps: array([    0.50303])\n",
              "names: {0: 'odometer'}\n",
              "plot: True\n",
              "results_dict: {'metrics/precision(B)': 0.9024874129437486, 'metrics/recall(B)': 0.9166666666666666, 'metrics/mAP50(B)': 0.9210953761817748, 'metrics/mAP50-95(B)': 0.5030299437248833, 'fitness': 0.5448364869705725}\n",
              "save_dir: PosixPath('runs/detect/train2')\n",
              "speed: {'preprocess': 2.7180910110473633, 'inference': 215.12940526008606, 'loss': 0.00014901161193847656, 'postprocess': 7.070024808247884}\n",
              "task: 'detect'"
            ]
          },
          "metadata": {},
          "execution_count": 7
        }
      ],
      "source": [
        "model.train(data='{}'.format(yaml_filename), epochs=30, patience=10, batch=16, imgsz=640, pretrained=True)"
      ]
    },
    {
      "cell_type": "markdown",
      "source": [
        "## Choosing Best of Yolo Or Loading Existing Model"
      ],
      "metadata": {
        "id": "1IzswTFAwcff"
      },
      "id": "1IzswTFAwcff"
    },
    {
      "cell_type": "code",
      "execution_count": null,
      "id": "833746bc0f35becd",
      "metadata": {
        "ExecuteTime": {
          "end_time": "2024-05-20T16:17:08.124763100Z",
          "start_time": "2024-05-20T16:17:08.058655700Z"
        },
        "id": "833746bc0f35becd"
      },
      "outputs": [],
      "source": [
        "model = YOLO('runs/detect/train2/weights/best.pt')"
      ]
    },
    {
      "cell_type": "markdown",
      "source": [
        "# Predicting Bounding Boxes"
      ],
      "metadata": {
        "id": "nYyj6Ivgvdpz"
      },
      "id": "nYyj6Ivgvdpz"
    },
    {
      "cell_type": "code",
      "execution_count": null,
      "id": "c16b63666e609af0",
      "metadata": {
        "id": "c16b63666e609af0"
      },
      "outputs": [],
      "source": [
        "im = Image.open(\n",
        "    'C:/Users/Administrator/PycharmProjects/YOLO&OCR/car_dataset/images/val/c5bb919e-ece4-4c46-a62f-e5bf3e5807e3.jpeg')\n",
        "results = model.predict(source=im, save=True)"
      ]
    },
    {
      "cell_type": "code",
      "execution_count": null,
      "id": "c8a885fb-f33e-44ec-97df-c3c563b5f188",
      "metadata": {
        "ExecuteTime": {
          "end_time": "2024-05-20T16:19:43.923555700Z",
          "start_time": "2024-05-20T16:19:39.369821500Z"
        },
        "colab": {
          "base_uri": "https://localhost:8080/"
        },
        "id": "c8a885fb-f33e-44ec-97df-c3c563b5f188",
        "outputId": "2ca168dc-2a70-4377-94d6-81edbb85ce10"
      },
      "outputs": [
        {
          "output_type": "stream",
          "name": "stdout",
          "text": [
            "\n",
            "image 1/24 /content/drive/MyDrive/car_dataset/images/val/0c70e8b8-2c21-4faa-a1dd-1e0ee6f02e58.jpeg: 480x640 1 odometer, 201.6ms\n",
            "image 2/24 /content/drive/MyDrive/car_dataset/images/val/0caa5ccf-61be-4111-a75d-9285c9956b58.jpeg: 448x640 1 odometer, 163.2ms\n",
            "image 3/24 /content/drive/MyDrive/car_dataset/images/val/1aeb3991-9a35-4823-b2e3-339b1e6dd53b.jpeg: 448x640 1 odometer, 139.9ms\n",
            "image 4/24 /content/drive/MyDrive/car_dataset/images/val/1c6142f6-5eb2-43d8-a347-78d4c6156a27.jpeg: 448x640 1 odometer, 143.6ms\n",
            "image 5/24 /content/drive/MyDrive/car_dataset/images/val/2ce7942a-399f-44e9-a42d-8a2e220b10ec.jpeg: 448x640 1 odometer, 144.2ms\n",
            "image 6/24 /content/drive/MyDrive/car_dataset/images/val/3aece9a1-1dce-4de2-9f1a-80d3c81c43bd.jpeg: 448x640 1 odometer, 148.3ms\n",
            "image 7/24 /content/drive/MyDrive/car_dataset/images/val/3be914c3-8fe1-4486-82a5-c8a6c16b19cb.jpeg: 448x640 1 odometer, 149.5ms\n",
            "image 8/24 /content/drive/MyDrive/car_dataset/images/val/3c3fde66-9bb3-4abc-8841-5bd604800e0d.jpeg: 448x640 1 odometer, 165.6ms\n",
            "image 9/24 /content/drive/MyDrive/car_dataset/images/val/3eba9e92-1193-46a3-9e9a-fbe1302d0ace.jpeg: 640x480 1 odometer, 168.4ms\n",
            "image 10/24 /content/drive/MyDrive/car_dataset/images/val/4aa4e0ae-4393-4353-9590-9ea8b9907c9b.jpeg: 480x640 1 odometer, 157.9ms\n",
            "image 11/24 /content/drive/MyDrive/car_dataset/images/val/4d7edd76-69bf-493a-827d-c610c629e655.jpeg: 448x640 1 odometer, 135.8ms\n",
            "image 12/24 /content/drive/MyDrive/car_dataset/images/val/5a13663a-984e-46b1-bd06-0948eb2f618f.jpeg: 448x640 1 odometer, 137.6ms\n",
            "image 13/24 /content/drive/MyDrive/car_dataset/images/val/d9409c0f-3f46-4db4-868a-b1fd31e5e720.jpeg: 448x640 1 odometer, 152.3ms\n",
            "image 14/24 /content/drive/MyDrive/car_dataset/images/val/d9705c50-e1e6-4b59-be92-4358ad424b4c.jpeg: 448x640 1 odometer, 137.8ms\n",
            "image 15/24 /content/drive/MyDrive/car_dataset/images/val/de57b246-65b8-4b89-b13a-d025f6ade153.jpeg: 288x640 1 odometer, 100.6ms\n",
            "image 16/24 /content/drive/MyDrive/car_dataset/images/val/ea87b005-a6da-47e4-ba24-24c98a9eefd2.jpeg: 448x640 (no detections), 139.9ms\n",
            "image 17/24 /content/drive/MyDrive/car_dataset/images/val/f3d4a298-59f4-458c-8b00-537423483bb2.jpeg: 480x640 1 odometer, 144.5ms\n",
            "image 18/24 /content/drive/MyDrive/car_dataset/images/val/f57a6c19-55ac-4008-8acc-978a962b4faf.jpeg: 448x640 1 odometer, 150.8ms\n",
            "image 19/24 /content/drive/MyDrive/car_dataset/images/val/f7d576a4-ebc6-45e9-9053-e373f849f050.jpeg: 448x640 1 odometer, 140.0ms\n",
            "image 20/24 /content/drive/MyDrive/car_dataset/images/val/f9d6579e-560e-4b49-9518-a66455d38906.jpeg: 448x640 1 odometer, 137.4ms\n",
            "image 21/24 /content/drive/MyDrive/car_dataset/images/val/fad5caca-0015-46e6-ab62-3f1ba9a88697.jpeg: 448x640 1 odometer, 136.4ms\n",
            "image 22/24 /content/drive/MyDrive/car_dataset/images/val/fc5013f1-6cde-48f7-ab13-8aa2d924dd52.jpeg: 480x640 1 odometer, 144.4ms\n",
            "image 23/24 /content/drive/MyDrive/car_dataset/images/val/fdcf44de-21cf-4397-b1a3-b7badf819f5d.jpeg: 480x640 1 odometer, 145.7ms\n",
            "image 24/24 /content/drive/MyDrive/car_dataset/images/val/fe209aee-1dbc-4214-b360-b662be2fc1e6.jpeg: 448x640 1 odometer, 148.9ms\n",
            "Speed: 3.4ms preprocess, 147.3ms inference, 1.0ms postprocess per image at shape (1, 3, 448, 640)\n",
            "Results saved to \u001b[1mruns/detect/predict\u001b[0m\n"
          ]
        }
      ],
      "source": [
        "im_dir = '/content/drive/MyDrive/car_dataset/images/val'\n",
        "results = model.predict(source=im_dir, save=True)"
      ]
    },
    {
      "cell_type": "markdown",
      "source": [
        "Preparing EasyOCR"
      ],
      "metadata": {
        "id": "S4FobEulvkny"
      },
      "id": "S4FobEulvkny"
    },
    {
      "cell_type": "code",
      "outputs": [
        {
          "output_type": "stream",
          "name": "stderr",
          "text": [
            "WARNING:easyocr.easyocr:Neither CUDA nor MPS are available - defaulting to CPU. Note: This module is much faster with a GPU.\n",
            "WARNING:easyocr.easyocr:Downloading detection model, please wait. This may take several minutes depending upon your network connection.\n"
          ]
        },
        {
          "output_type": "stream",
          "name": "stdout",
          "text": [
            "Progress: |██████████████████████████████████████████████████| 100.0% Complete"
          ]
        },
        {
          "output_type": "stream",
          "name": "stderr",
          "text": [
            "WARNING:easyocr.easyocr:Downloading recognition model, please wait. This may take several minutes depending upon your network connection.\n"
          ]
        },
        {
          "output_type": "stream",
          "name": "stdout",
          "text": [
            "Progress: |██████████████████████████████████████████████████| 100.0% Complete"
          ]
        }
      ],
      "source": [
        "reader = easyocr.Reader(['en'])"
      ],
      "metadata": {
        "ExecuteTime": {
          "end_time": "2024-05-20T16:27:26.498674Z",
          "start_time": "2024-05-20T16:22:03.610266300Z"
        },
        "colab": {
          "base_uri": "https://localhost:8080/"
        },
        "id": "2cc0fdf27c7f9558",
        "outputId": "1c419441-31e7-4abc-9734-f1c20dfe7982"
      },
      "id": "2cc0fdf27c7f9558",
      "execution_count": null
    },
    {
      "cell_type": "markdown",
      "source": [
        "# Input Image"
      ],
      "metadata": {
        "id": "BrJCkovPvoa6"
      },
      "id": "BrJCkovPvoa6"
    },
    {
      "cell_type": "code",
      "execution_count": null,
      "id": "fc92b63c3bff7971",
      "metadata": {
        "ExecuteTime": {
          "end_time": "2024-05-20T17:23:27.789287400Z",
          "start_time": "2024-05-20T17:23:27.755546500Z"
        },
        "id": "fc92b63c3bff7971"
      },
      "outputs": [],
      "source": [
        "image_path = \"/content/drive/MyDrive/car_dataset/images/val/fc5013f1-6cde-48f7-ab13-8aa2d924dd52.jpeg\"\n",
        "image = cv2.imread(image_path)\n",
        "img = image.copy()"
      ]
    },
    {
      "cell_type": "markdown",
      "source": [
        "# Odometer Recognition"
      ],
      "metadata": {
        "id": "wHSZHjWFvtku"
      },
      "id": "wHSZHjWFvtku"
    },
    {
      "cell_type": "code",
      "outputs": [
        {
          "output_type": "stream",
          "name": "stdout",
          "text": [
            "\n",
            "image 1/1 /content/drive/MyDrive/car_dataset/images/val/fc5013f1-6cde-48f7-ab13-8aa2d924dd52.jpeg: 480x640 1 odometer, 206.7ms\n",
            "Speed: 3.9ms preprocess, 206.7ms inference, 1.2ms postprocess per image at shape (1, 3, 480, 640)\n"
          ]
        }
      ],
      "source": [
        "v8_results = model.predict(image_path)\n",
        "prediction = v8_results[0]\n",
        "boxes = prediction.boxes\n",
        "try:\n",
        "    xyxy = boxes.xyxy[0]\n",
        "except IndexError:\n",
        "    print(\"No bounding boxes found.\")"
      ],
      "metadata": {
        "ExecuteTime": {
          "end_time": "2024-05-20T17:23:31.305625Z",
          "start_time": "2024-05-20T17:23:31.147036Z"
        },
        "colab": {
          "base_uri": "https://localhost:8080/"
        },
        "id": "b2ffa98ddd3c5f7",
        "outputId": "a3b5e324-a0ab-45f7-930d-c49203010ea5"
      },
      "id": "b2ffa98ddd3c5f7",
      "execution_count": null
    },
    {
      "cell_type": "markdown",
      "source": [
        "## Cropped Image"
      ],
      "metadata": {
        "id": "rGVoi4BRv9nV"
      },
      "id": "rGVoi4BRv9nV"
    },
    {
      "cell_type": "markdown",
      "source": [],
      "metadata": {
        "id": "K8Z-09oAv9ja"
      },
      "id": "K8Z-09oAv9ja"
    },
    {
      "cell_type": "code",
      "source": [
        "cropped = image[int(xyxy[1]): int(xyxy[3]), int(xyxy[0]): int(xyxy[2])]\n",
        "cropped"
      ],
      "metadata": {
        "colab": {
          "base_uri": "https://localhost:8080/",
          "height": 69
        },
        "id": "Vk5tKtJzPyPT",
        "outputId": "646b7109-c220-4c7e-f8e7-4814d3955847"
      },
      "id": "Vk5tKtJzPyPT",
      "execution_count": null,
      "outputs": [
        {
          "output_type": "execute_result",
          "data": {
            "text/plain": [
              "array([[[195, 155, 190],\n",
              "        [189, 148, 175],\n",
              "        [185, 143, 161],\n",
              "        ...,\n",
              "        [185, 127, 122],\n",
              "        [183, 127, 122],\n",
              "        [183, 127, 122]],\n",
              "\n",
              "       [[194, 156, 186],\n",
              "        [192, 150, 175],\n",
              "        [191, 146, 165],\n",
              "        ...,\n",
              "        [184, 125, 123],\n",
              "        [185, 127, 122],\n",
              "        [185, 127, 122]],\n",
              "\n",
              "       [[194, 155, 181],\n",
              "        [193, 150, 171],\n",
              "        [188, 143, 159],\n",
              "        ...,\n",
              "        [187, 125, 125],\n",
              "        [187, 126, 124],\n",
              "        [186, 125, 123]],\n",
              "\n",
              "       ...,\n",
              "\n",
              "       [[114, 107, 110],\n",
              "        [117, 108, 111],\n",
              "        [119, 108, 111],\n",
              "        ...,\n",
              "        [126, 112, 113],\n",
              "        [121, 110, 113],\n",
              "        [114, 104, 110]],\n",
              "\n",
              "       [[109, 103, 108],\n",
              "        [111, 105, 110],\n",
              "        [111, 104, 109],\n",
              "        ...,\n",
              "        [112, 101, 103],\n",
              "        [112, 103, 106],\n",
              "        [110, 103, 108]],\n",
              "\n",
              "       [[110, 106, 111],\n",
              "        [110, 106, 111],\n",
              "        [112, 106, 111],\n",
              "        ...,\n",
              "        [108, 102, 103],\n",
              "        [110, 103, 106],\n",
              "        [110, 104, 109]]], dtype=uint8)"
            ],
            "text/html": [
              "<style>\n",
              "      .ndarray_repr .ndarray_raw_data {\n",
              "        display: none;\n",
              "      }\n",
              "      .ndarray_repr.show_array .ndarray_raw_data {\n",
              "        display: block;\n",
              "      }\n",
              "      .ndarray_repr.show_array .ndarray_image_preview {\n",
              "        display: none;\n",
              "      }\n",
              "      </style>\n",
              "      <div id=\"id-e7042e91-b885-4e3b-b725-48ef373ac1f0\" class=\"ndarray_repr\"><pre>ndarray (28, 53, 3) <button style=\"padding: 0 2px;\">show data</button></pre><img src=\"data:image/png;base64,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\" class=\"ndarray_image_preview\" /><pre class=\"ndarray_raw_data\">array([[[195, 155, 190],\n",
              "        [189, 148, 175],\n",
              "        [185, 143, 161],\n",
              "        ...,\n",
              "        [185, 127, 122],\n",
              "        [183, 127, 122],\n",
              "        [183, 127, 122]],\n",
              "\n",
              "       [[194, 156, 186],\n",
              "        [192, 150, 175],\n",
              "        [191, 146, 165],\n",
              "        ...,\n",
              "        [184, 125, 123],\n",
              "        [185, 127, 122],\n",
              "        [185, 127, 122]],\n",
              "\n",
              "       [[194, 155, 181],\n",
              "        [193, 150, 171],\n",
              "        [188, 143, 159],\n",
              "        ...,\n",
              "        [187, 125, 125],\n",
              "        [187, 126, 124],\n",
              "        [186, 125, 123]],\n",
              "\n",
              "       ...,\n",
              "\n",
              "       [[114, 107, 110],\n",
              "        [117, 108, 111],\n",
              "        [119, 108, 111],\n",
              "        ...,\n",
              "        [126, 112, 113],\n",
              "        [121, 110, 113],\n",
              "        [114, 104, 110]],\n",
              "\n",
              "       [[109, 103, 108],\n",
              "        [111, 105, 110],\n",
              "        [111, 104, 109],\n",
              "        ...,\n",
              "        [112, 101, 103],\n",
              "        [112, 103, 106],\n",
              "        [110, 103, 108]],\n",
              "\n",
              "       [[110, 106, 111],\n",
              "        [110, 106, 111],\n",
              "        [112, 106, 111],\n",
              "        ...,\n",
              "        [108, 102, 103],\n",
              "        [110, 103, 106],\n",
              "        [110, 104, 109]]], dtype=uint8)</pre></div><script>\n",
              "      (() => {\n",
              "      const titles = ['show data', 'hide data'];\n",
              "      let index = 0\n",
              "      document.querySelector('#id-e7042e91-b885-4e3b-b725-48ef373ac1f0 button').onclick = (e) => {\n",
              "        document.querySelector('#id-e7042e91-b885-4e3b-b725-48ef373ac1f0').classList.toggle('show_array');\n",
              "        index = (++index) % 2;\n",
              "        document.querySelector('#id-e7042e91-b885-4e3b-b725-48ef373ac1f0 button').textContent = titles[index];\n",
              "        e.preventDefault();\n",
              "        e.stopPropagation();\n",
              "      }\n",
              "      })();\n",
              "    </script>"
            ]
          },
          "metadata": {},
          "execution_count": 86
        }
      ]
    },
    {
      "cell_type": "markdown",
      "source": [
        "## Bounding Box"
      ],
      "metadata": {
        "id": "UzDV6sVJwAfy"
      },
      "id": "UzDV6sVJwAfy"
    },
    {
      "cell_type": "code",
      "source": [
        "cv2.rectangle(img, (int(xyxy[0]), int(xyxy[1])), (int(xyxy[2]), int(xyxy[3])), (255, 0, 0), 3)\n",
        "img = cv2.cvtColor(img, cv2.COLOR_BGR2RGB)\n",
        "plt.imshow(img)"
      ],
      "metadata": {
        "colab": {
          "base_uri": "https://localhost:8080/",
          "height": 452
        },
        "id": "9aQk9cJAQLGh",
        "outputId": "601aadec-c1d8-4ba3-d105-e6705069f2b3"
      },
      "id": "9aQk9cJAQLGh",
      "execution_count": null,
      "outputs": [
        {
          "output_type": "execute_result",
          "data": {
            "text/plain": [
              "<matplotlib.image.AxesImage at 0x7b0b30d338b0>"
            ]
          },
          "metadata": {},
          "execution_count": 87
        },
        {
          "output_type": "display_data",
          "data": {
            "text/plain": [
              "<Figure size 640x480 with 1 Axes>"
            ],
            "image/png": "[encoded data removed]"
          },
          "metadata": {}
        }
      ]
    },
    {
      "cell_type": "markdown",
      "source": [
        "## Enhancing Cropped Image"
      ],
      "metadata": {
        "id": "5DEtTcL6vzVK"
      },
      "id": "5DEtTcL6vzVK"
    },
    {
      "cell_type": "code",
      "source": [
        "from PIL import Image, ImageFilter, ImageEnhance\n",
        "\n",
        "imcropped = Image.fromarray(np.uint8(cropped))\n",
        "\n",
        "scale_factor = 1.5  # Adjust scale factor according to your needs\n",
        "new_dimensions = (int(imcropped.width * scale_factor), int(imcropped.height * scale_factor))\n",
        "resized_image =imcropped.resize(new_dimensions, Image.Resampling.LANCZOS)\n",
        "\n",
        "# Enhance image sharpness\n",
        "enhancer = ImageEnhance.Sharpness(resized_image)\n",
        "sharpened_image = enhancer.enhance(2.0)\n",
        "\n",
        "# Enhance image contrast\n",
        "enhancer = ImageEnhance.Contrast(sharpened_image)\n",
        "contrast_enhanced_image = enhancer.enhance(2.0)\n",
        "\n",
        "# Enhance image color\n",
        "enhancer = ImageEnhance.Color(contrast_enhanced_image)\n",
        "color_enhanced_image = enhancer.enhance(1.5)\n",
        "\n",
        "# Apply a mild smoothing filter\n",
        "smoothed_image = color_enhanced_image.filter(ImageFilter.SMOOTH_MORE)\n",
        "smoothed_image"
      ],
      "metadata": {
        "colab": {
          "base_uri": "https://localhost:8080/",
          "height": 59
        },
        "id": "x5sR9zEjIIFW",
        "outputId": "af64596a-81a3-4fd8-b211-33c72579e905"
      },
      "id": "x5sR9zEjIIFW",
      "execution_count": null,
      "outputs": [
        {
          "output_type": "execute_result",
          "data": {
            "text/plain": [
              "<PIL.Image.Image image mode=RGB size=79x42>"
            ],
            "image/png": "[encoded data removed]"
          },
          "metadata": {},
          "execution_count": 88
        }
      ]
    },
    {
      "cell_type": "code",
      "outputs": [],
      "source": [
        "ocr_results = reader.readtext( np.array(smoothed_image), allowlist='0123456789km')\n",
        "value = []\n",
        "\n",
        "for result in ocr_results:\n",
        "    if result is None:\n",
        "        continue\n",
        "    value.append(result[1])"
      ],
      "metadata": {
        "ExecuteTime": {
          "end_time": "2024-05-20T16:27:57.501298800Z",
          "start_time": "2024-05-20T16:27:57.346855700Z"
        },
        "id": "9a76398a-7f40-4e6b-856f-0de6db9e872c"
      },
      "id": "9a76398a-7f40-4e6b-856f-0de6db9e872c",
      "execution_count": null
    },
    {
      "cell_type": "markdown",
      "source": [
        "## OCR Output"
      ],
      "metadata": {
        "id": "_tG_3RgHwFZJ"
      },
      "id": "_tG_3RgHwFZJ"
    },
    {
      "cell_type": "code",
      "outputs": [
        {
          "output_type": "stream",
          "name": "stdout",
          "text": [
            "199632\n"
          ]
        }
      ],
      "source": [
        "integer_list = [int(item) for item in value]\n",
        "# Find the maximum value in the list of integers\n",
        "max_value = max(integer_list)\n",
        "print(max_value)"
      ],
      "metadata": {
        "colab": {
          "base_uri": "https://localhost:8080/"
        },
        "id": "9b74420ca64d26f1",
        "outputId": "f5c153e5-49ad-4667-c4aa-93325d1857f6"
      },
      "id": "9b74420ca64d26f1",
      "execution_count": null
    },
    {
      "cell_type": "code",
      "source": [
        "import shutil\n",
        "from google.colab import files\n",
        "\n",
        "# Directory you want to download\n",
        "folder_path = '/content/runs'\n",
        "zip_file_path = '/content/runs.zip'\n",
        "\n",
        "# Compress the folder\n",
        "shutil.make_archive(zip_file_path.replace('.zip', ''), 'zip', folder_path)\n",
        "print(\"Folder compressed into a zip file.\")\n",
        "\n",
        "# Download the file to your local machine\n",
        "files.download(zip_file_path)\n",
        "print(\"Download started...\")\n"
      ],
      "metadata": {
        "colab": {
          "base_uri": "https://localhost:8080/",
          "height": 52
        },
        "id": "85DDjJbpDfOH",
        "outputId": "27f54807-40d0-4f6f-da34-3b49c97f771c"
      },
      "id": "85DDjJbpDfOH",
      "execution_count": null,
      "outputs": [
        {
          "output_type": "stream",
          "name": "stdout",
          "text": [
            "Folder compressed into a zip file.\n"
          ]
        },
        {
          "output_type": "display_data",
          "data": {
            "text/plain": [
              "<IPython.core.display.Javascript object>"
            ],
            "application/javascript": [
              "\n",
              "    async function download(id, filename, size) {\n",
              "      if (!google.colab.kernel.accessAllowed) {\n",
              "        return;\n",
              "      }\n",
              "      const div = document.createElement('div');\n",
              "      const label = document.createElement('label');\n",
              "      label.textContent = `Downloading \"${filename}\": `;\n",
              "      div.appendChild(label);\n",
              "      const progress = document.createElement('progress');\n",
              "      progress.max = size;\n",
              "      div.appendChild(progress);\n",
              "      document.body.appendChild(div);\n",
              "\n",
              "      const buffers = [];\n",
              "      let downloaded = 0;\n",
              "\n",
              "      const channel = await google.colab.kernel.comms.open(id);\n",
              "      // Send a message to notify the kernel that we're ready.\n",
              "      channel.send({})\n",
              "\n",
              "      for await (const message of channel.messages) {\n",
              "        // Send a message to notify the kernel that we're ready.\n",
              "        channel.send({})\n",
              "        if (message.buffers) {\n",
              "          for (const buffer of message.buffers) {\n",
              "            buffers.push(buffer);\n",
              "            downloaded += buffer.byteLength;\n",
              "            progress.value = downloaded;\n",
              "          }\n",
              "        }\n",
              "      }\n",
              "      const blob = new Blob(buffers, {type: 'application/binary'});\n",
              "      const a = document.createElement('a');\n",
              "      a.href = window.URL.createObjectURL(blob);\n",
              "      a.download = filename;\n",
              "      div.appendChild(a);\n",
              "      a.click();\n",
              "      div.remove();\n",
              "    }\n",
              "  "
            ]
          },
          "metadata": {}
        },
        {
          "output_type": "display_data",
          "data": {
            "text/plain": [
              "<IPython.core.display.Javascript object>"
            ],
            "application/javascript": [
              "download(\"download_fcf4d01f-24ac-4edc-b728-e965d4cc3696\", \"runs.zip\", 18465104)"
            ]
          },
          "metadata": {}
        },
        {
          "output_type": "stream",
          "name": "stdout",
          "text": [
            "Download started...\n"
          ]
        }
      ]
    }
  ],
  "metadata": {
    "kernelspec": {
      "display_name": "Python 3",
      "name": "python3"
    },
    "language_info": {
      "codemirror_mode": {
        "name": "ipython",
        "version": 3
      },
      "file_extension": ".py",
      "mimetype": "text/x-python",
      "name": "python",
      "nbconvert_exporter": "python",
      "pygments_lexer": "ipython3",
      "version": "3.12.2"
    },
    "colab": {
      "provenance": [],
      "gpuType": "T4",
      "include_colab_link": true
    },
    "accelerator": "GPU"
  },
  "nbformat": 4,
  "nbformat_minor": 5
}